{
  "nbformat": 4,
  "nbformat_minor": 0,
  "metadata": {
    "colab": {
      "name": "Xg_model.ipynb",
      "provenance": [],
      "authorship_tag": "ABX9TyO2HDAD6pv8Md4S4Go7hJUA",
      "include_colab_link": true
    },
    "kernelspec": {
      "name": "python3",
      "display_name": "Python 3"
    }
  },
  "cells": [
    {
      "cell_type": "markdown",
      "metadata": {
        "id": "view-in-github",
        "colab_type": "text"
      },
      "source": [
        "<a href=\"https://colab.research.google.com/github/Dinesh-Adhithya-H/sports-analytics/blob/master/Xg_model.ipynb\" target=\"_parent\"><img src=\"https://colab.research.google.com/assets/colab-badge.svg\" alt=\"Open In Colab\"/></a>"
      ]
    },
    {
      "cell_type": "code",
      "metadata": {
        "colab": {
          "base_uri": "https://localhost:8080/"
        },
        "id": "9vT6CMYLJimW",
        "outputId": "f46b6985-de9c-40b6-ca75-b41e2a45c585"
      },
      "source": [
        "from google.colab import drive\r\n",
        "drive.mount('/content/drive')"
      ],
      "execution_count": 11,
      "outputs": [
        {
          "output_type": "stream",
          "text": [
            "Drive already mounted at /content/drive; to attempt to forcibly remount, call drive.mount(\"/content/drive\", force_remount=True).\n"
          ],
          "name": "stdout"
        }
      ]
    },
    {
      "cell_type": "code",
      "metadata": {
        "colab": {
          "resources": {
            "http://localhost:8080/nbextensions/google.colab/files.js": {
              "data": "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",
              "ok": true,
              "headers": [
                [
                  "content-type",
                  "application/javascript"
                ]
              ],
              "status": 200,
              "status_text": ""
            }
          },
          "base_uri": "https://localhost:8080/",
          "height": 72
        },
        "id": "wHPaNV5BJjaw",
        "outputId": "1c04e4f2-d37c-4cd4-d6d5-fddd766d60ae"
      },
      "source": [
        "from google.colab import files\r\n",
        "src = list(files.upload().values())[0]\r\n",
        "open('FCPython.py','wb').write(src)\r\n",
        "from FCPython import createPitch"
      ],
      "execution_count": 3,
      "outputs": [
        {
          "output_type": "display_data",
          "data": {
            "text/html": [
              "\n",
              "     <input type=\"file\" id=\"files-63d66f1b-57e7-4a5e-b2cf-9c5d3e8d14f9\" name=\"files[]\" multiple disabled\n",
              "        style=\"border:none\" />\n",
              "     <output id=\"result-63d66f1b-57e7-4a5e-b2cf-9c5d3e8d14f9\">\n",
              "      Upload widget is only available when the cell has been executed in the\n",
              "      current browser session. Please rerun this cell to enable.\n",
              "      </output>\n",
              "      <script src=\"/nbextensions/google.colab/files.js\"></script> "
            ],
            "text/plain": [
              "<IPython.core.display.HTML object>"
            ]
          },
          "metadata": {
            "tags": []
          }
        },
        {
          "output_type": "stream",
          "text": [
            "Saving FCPython.py to FCPython.py\n"
          ],
          "name": "stdout"
        }
      ]
    },
    {
      "cell_type": "code",
      "metadata": {
        "id": "s9jotgDnIVAJ"
      },
      "source": [
        "import pandas as pd\r\n",
        "import numpy as np\r\n",
        "import matplotlib.pyplot as plt\r\n",
        "import json\r\n",
        "from FCPython import createPitch"
      ],
      "execution_count": 4,
      "outputs": []
    },
    {
      "cell_type": "code",
      "metadata": {
        "id": "rfPD7g2_Isnb"
      },
      "source": [
        "with open(\"/content/drive/My Drive/Wyscout/events/events_England.json\") as file:\r\n",
        "  data=json.load(file)"
      ],
      "execution_count": 14,
      "outputs": []
    },
    {
      "cell_type": "code",
      "metadata": {
        "id": "k9WIWOqzNNGp"
      },
      "source": [
        "train=pd.DataFrame(data)"
      ],
      "execution_count": 16,
      "outputs": []
    },
    {
      "cell_type": "code",
      "metadata": {
        "colab": {
          "base_uri": "https://localhost:8080/",
          "height": 394
        },
        "id": "tMajjxOpLlA1",
        "outputId": "40e23750-fab5-49ed-9427-f87593f37758"
      },
      "source": [
        "train.head()"
      ],
      "execution_count": 19,
      "outputs": [
        {
          "output_type": "execute_result",
          "data": {
            "text/html": [
              "<div>\n",
              "<style scoped>\n",
              "    .dataframe tbody tr th:only-of-type {\n",
              "        vertical-align: middle;\n",
              "    }\n",
              "\n",
              "    .dataframe tbody tr th {\n",
              "        vertical-align: top;\n",
              "    }\n",
              "\n",
              "    .dataframe thead th {\n",
              "        text-align: right;\n",
              "    }\n",
              "</style>\n",
              "<table border=\"1\" class=\"dataframe\">\n",
              "  <thead>\n",
              "    <tr style=\"text-align: right;\">\n",
              "      <th></th>\n",
              "      <th>eventId</th>\n",
              "      <th>subEventName</th>\n",
              "      <th>tags</th>\n",
              "      <th>playerId</th>\n",
              "      <th>positions</th>\n",
              "      <th>matchId</th>\n",
              "      <th>eventName</th>\n",
              "      <th>teamId</th>\n",
              "      <th>matchPeriod</th>\n",
              "      <th>eventSec</th>\n",
              "      <th>subEventId</th>\n",
              "      <th>id</th>\n",
              "    </tr>\n",
              "  </thead>\n",
              "  <tbody>\n",
              "    <tr>\n",
              "      <th>0</th>\n",
              "      <td>8</td>\n",
              "      <td>Simple pass</td>\n",
              "      <td>[{'id': 1801}]</td>\n",
              "      <td>25413</td>\n",
              "      <td>[{'y': 49, 'x': 49}, {'y': 78, 'x': 31}]</td>\n",
              "      <td>2499719</td>\n",
              "      <td>Pass</td>\n",
              "      <td>1609</td>\n",
              "      <td>1H</td>\n",
              "      <td>2.758649</td>\n",
              "      <td>85</td>\n",
              "      <td>177959171</td>\n",
              "    </tr>\n",
              "    <tr>\n",
              "      <th>1</th>\n",
              "      <td>8</td>\n",
              "      <td>High pass</td>\n",
              "      <td>[{'id': 1801}]</td>\n",
              "      <td>370224</td>\n",
              "      <td>[{'y': 78, 'x': 31}, {'y': 75, 'x': 51}]</td>\n",
              "      <td>2499719</td>\n",
              "      <td>Pass</td>\n",
              "      <td>1609</td>\n",
              "      <td>1H</td>\n",
              "      <td>4.946850</td>\n",
              "      <td>83</td>\n",
              "      <td>177959172</td>\n",
              "    </tr>\n",
              "    <tr>\n",
              "      <th>2</th>\n",
              "      <td>8</td>\n",
              "      <td>Head pass</td>\n",
              "      <td>[{'id': 1801}]</td>\n",
              "      <td>3319</td>\n",
              "      <td>[{'y': 75, 'x': 51}, {'y': 71, 'x': 35}]</td>\n",
              "      <td>2499719</td>\n",
              "      <td>Pass</td>\n",
              "      <td>1609</td>\n",
              "      <td>1H</td>\n",
              "      <td>6.542188</td>\n",
              "      <td>82</td>\n",
              "      <td>177959173</td>\n",
              "    </tr>\n",
              "    <tr>\n",
              "      <th>3</th>\n",
              "      <td>8</td>\n",
              "      <td>Head pass</td>\n",
              "      <td>[{'id': 1801}]</td>\n",
              "      <td>120339</td>\n",
              "      <td>[{'y': 71, 'x': 35}, {'y': 95, 'x': 41}]</td>\n",
              "      <td>2499719</td>\n",
              "      <td>Pass</td>\n",
              "      <td>1609</td>\n",
              "      <td>1H</td>\n",
              "      <td>8.143395</td>\n",
              "      <td>82</td>\n",
              "      <td>177959174</td>\n",
              "    </tr>\n",
              "    <tr>\n",
              "      <th>4</th>\n",
              "      <td>8</td>\n",
              "      <td>Simple pass</td>\n",
              "      <td>[{'id': 1801}]</td>\n",
              "      <td>167145</td>\n",
              "      <td>[{'y': 95, 'x': 41}, {'y': 88, 'x': 72}]</td>\n",
              "      <td>2499719</td>\n",
              "      <td>Pass</td>\n",
              "      <td>1609</td>\n",
              "      <td>1H</td>\n",
              "      <td>10.302366</td>\n",
              "      <td>85</td>\n",
              "      <td>177959175</td>\n",
              "    </tr>\n",
              "  </tbody>\n",
              "</table>\n",
              "</div>"
            ],
            "text/plain": [
              "   eventId subEventName            tags  ...   eventSec subEventId         id\n",
              "0        8  Simple pass  [{'id': 1801}]  ...   2.758649         85  177959171\n",
              "1        8    High pass  [{'id': 1801}]  ...   4.946850         83  177959172\n",
              "2        8    Head pass  [{'id': 1801}]  ...   6.542188         82  177959173\n",
              "3        8    Head pass  [{'id': 1801}]  ...   8.143395         82  177959174\n",
              "4        8  Simple pass  [{'id': 1801}]  ...  10.302366         85  177959175\n",
              "\n",
              "[5 rows x 12 columns]"
            ]
          },
          "metadata": {
            "tags": []
          },
          "execution_count": 19
        }
      ]
    },
    {
      "cell_type": "code",
      "metadata": {
        "colab": {
          "base_uri": "https://localhost:8080/"
        },
        "id": "4XNibrG-NtsB",
        "outputId": "06c1943d-4bf2-4f54-f971-9b6bfd368fc4"
      },
      "source": [
        "pd.unique(train.subEventName)"
      ],
      "execution_count": 20,
      "outputs": [
        {
          "output_type": "execute_result",
          "data": {
            "text/plain": [
              "array(['Simple pass', 'High pass', 'Head pass', 'Air duel',\n",
              "       'Ground loose ball duel', 'Smart pass', 'Launch',\n",
              "       'Ground defending duel', 'Ground attacking duel', 'Foul',\n",
              "       'Free Kick', 'Cross', 'Shot', 'Reflexes', 'Touch', 'Clearance',\n",
              "       'Ball out of the field', 'Throw in', 'Goal kick', 'Corner',\n",
              "       'Goalkeeper leaving line', 'Hand pass', 'Acceleration',\n",
              "       'Save attempt', '', 'Free kick cross', 'Free kick shot',\n",
              "       'Hand foul', 'Violent Foul', 'Protest', 'Whistle',\n",
              "       'Late card foul', 'Out of game foul', 'Penalty', 'Time lost foul',\n",
              "       'Simulation'], dtype=object)"
            ]
          },
          "metadata": {
            "tags": []
          },
          "execution_count": 20
        }
      ]
    },
    {
      "cell_type": "code",
      "metadata": {
        "id": "9NyeRzFON7sF"
      },
      "source": [
        "shots=train[train.subEventName==\"Shot\"]"
      ],
      "execution_count": 21,
      "outputs": []
    },
    {
      "cell_type": "code",
      "metadata": {
        "colab": {
          "base_uri": "https://localhost:8080/",
          "height": 1000
        },
        "id": "GXZas0qJOU26",
        "outputId": "c39b414d-1a40-4b73-cdb7-d199b41826e0"
      },
      "source": [
        "shots"
      ],
      "execution_count": 22,
      "outputs": [
        {
          "output_type": "execute_result",
          "data": {
            "text/html": [
              "<div>\n",
              "<style scoped>\n",
              "    .dataframe tbody tr th:only-of-type {\n",
              "        vertical-align: middle;\n",
              "    }\n",
              "\n",
              "    .dataframe tbody tr th {\n",
              "        vertical-align: top;\n",
              "    }\n",
              "\n",
              "    .dataframe thead th {\n",
              "        text-align: right;\n",
              "    }\n",
              "</style>\n",
              "<table border=\"1\" class=\"dataframe\">\n",
              "  <thead>\n",
              "    <tr style=\"text-align: right;\">\n",
              "      <th></th>\n",
              "      <th>eventId</th>\n",
              "      <th>subEventName</th>\n",
              "      <th>tags</th>\n",
              "      <th>playerId</th>\n",
              "      <th>positions</th>\n",
              "      <th>matchId</th>\n",
              "      <th>eventName</th>\n",
              "      <th>teamId</th>\n",
              "      <th>matchPeriod</th>\n",
              "      <th>eventSec</th>\n",
              "      <th>subEventId</th>\n",
              "      <th>id</th>\n",
              "    </tr>\n",
              "  </thead>\n",
              "  <tbody>\n",
              "    <tr>\n",
              "      <th>46</th>\n",
              "      <td>10</td>\n",
              "      <td>Shot</td>\n",
              "      <td>[{'id': 101}, {'id': 402}, {'id': 201}, {'id':...</td>\n",
              "      <td>25413</td>\n",
              "      <td>[{'y': 41, 'x': 88}, {'y': 0, 'x': 0}]</td>\n",
              "      <td>2499719</td>\n",
              "      <td>Shot</td>\n",
              "      <td>1609</td>\n",
              "      <td>1H</td>\n",
              "      <td>94.595788</td>\n",
              "      <td>100</td>\n",
              "      <td>177959212</td>\n",
              "    </tr>\n",
              "    <tr>\n",
              "      <th>62</th>\n",
              "      <td>10</td>\n",
              "      <td>Shot</td>\n",
              "      <td>[{'id': 401}, {'id': 201}, {'id': 1211}, {'id'...</td>\n",
              "      <td>26150</td>\n",
              "      <td>[{'y': 52, 'x': 85}, {'y': 100, 'x': 100}]</td>\n",
              "      <td>2499719</td>\n",
              "      <td>Shot</td>\n",
              "      <td>1631</td>\n",
              "      <td>1H</td>\n",
              "      <td>179.854785</td>\n",
              "      <td>100</td>\n",
              "      <td>177959247</td>\n",
              "    </tr>\n",
              "    <tr>\n",
              "      <th>91</th>\n",
              "      <td>10</td>\n",
              "      <td>Shot</td>\n",
              "      <td>[{'id': 101}, {'id': 403}, {'id': 201}, {'id':...</td>\n",
              "      <td>14763</td>\n",
              "      <td>[{'y': 52, 'x': 96}, {'y': 100, 'x': 100}]</td>\n",
              "      <td>2499719</td>\n",
              "      <td>Shot</td>\n",
              "      <td>1631</td>\n",
              "      <td>1H</td>\n",
              "      <td>254.745027</td>\n",
              "      <td>100</td>\n",
              "      <td>177959280</td>\n",
              "    </tr>\n",
              "    <tr>\n",
              "      <th>128</th>\n",
              "      <td>10</td>\n",
              "      <td>Shot</td>\n",
              "      <td>[{'id': 401}, {'id': 201}, {'id': 1215}, {'id'...</td>\n",
              "      <td>7868</td>\n",
              "      <td>[{'y': 33, 'x': 81}, {'y': 0, 'x': 0}]</td>\n",
              "      <td>2499719</td>\n",
              "      <td>Shot</td>\n",
              "      <td>1609</td>\n",
              "      <td>1H</td>\n",
              "      <td>425.824035</td>\n",
              "      <td>100</td>\n",
              "      <td>177959289</td>\n",
              "    </tr>\n",
              "    <tr>\n",
              "      <th>249</th>\n",
              "      <td>10</td>\n",
              "      <td>Shot</td>\n",
              "      <td>[{'id': 402}, {'id': 201}, {'id': 1205}, {'id'...</td>\n",
              "      <td>7868</td>\n",
              "      <td>[{'y': 30, 'x': 75}, {'y': 0, 'x': 0}]</td>\n",
              "      <td>2499719</td>\n",
              "      <td>Shot</td>\n",
              "      <td>1609</td>\n",
              "      <td>1H</td>\n",
              "      <td>815.462015</td>\n",
              "      <td>100</td>\n",
              "      <td>177959429</td>\n",
              "    </tr>\n",
              "    <tr>\n",
              "      <th>...</th>\n",
              "      <td>...</td>\n",
              "      <td>...</td>\n",
              "      <td>...</td>\n",
              "      <td>...</td>\n",
              "      <td>...</td>\n",
              "      <td>...</td>\n",
              "      <td>...</td>\n",
              "      <td>...</td>\n",
              "      <td>...</td>\n",
              "      <td>...</td>\n",
              "      <td>...</td>\n",
              "      <td>...</td>\n",
              "    </tr>\n",
              "    <tr>\n",
              "      <th>642945</th>\n",
              "      <td>10</td>\n",
              "      <td>Shot</td>\n",
              "      <td>[{'id': 401}, {'id': 1212}, {'id': 1802}]</td>\n",
              "      <td>8561</td>\n",
              "      <td>[{'y': 45, 'x': 72}, {'y': 0, 'x': 0}]</td>\n",
              "      <td>2500098</td>\n",
              "      <td>Shot</td>\n",
              "      <td>1633</td>\n",
              "      <td>2H</td>\n",
              "      <td>1972.969422</td>\n",
              "      <td>100</td>\n",
              "      <td>251596053</td>\n",
              "    </tr>\n",
              "    <tr>\n",
              "      <th>643023</th>\n",
              "      <td>10</td>\n",
              "      <td>Shot</td>\n",
              "      <td>[{'id': 101}, {'id': 402}, {'id': 201}, {'id':...</td>\n",
              "      <td>41174</td>\n",
              "      <td>[{'y': 33, 'x': 86}, {'y': 0, 'x': 0}]</td>\n",
              "      <td>2500098</td>\n",
              "      <td>Shot</td>\n",
              "      <td>1633</td>\n",
              "      <td>2H</td>\n",
              "      <td>2193.887080</td>\n",
              "      <td>100</td>\n",
              "      <td>251596096</td>\n",
              "    </tr>\n",
              "    <tr>\n",
              "      <th>643051</th>\n",
              "      <td>10</td>\n",
              "      <td>Shot</td>\n",
              "      <td>[{'id': 402}, {'id': 201}, {'id': 1201}, {'id'...</td>\n",
              "      <td>7879</td>\n",
              "      <td>[{'y': 62, 'x': 88}, {'y': 100, 'x': 100}]</td>\n",
              "      <td>2500098</td>\n",
              "      <td>Shot</td>\n",
              "      <td>1623</td>\n",
              "      <td>2H</td>\n",
              "      <td>2377.197700</td>\n",
              "      <td>100</td>\n",
              "      <td>251596357</td>\n",
              "    </tr>\n",
              "    <tr>\n",
              "      <th>643055</th>\n",
              "      <td>10</td>\n",
              "      <td>Shot</td>\n",
              "      <td>[{'id': 402}, {'id': 201}, {'id': 1206}, {'id'...</td>\n",
              "      <td>145692</td>\n",
              "      <td>[{'y': 38, 'x': 92}, {'y': 100, 'x': 100}]</td>\n",
              "      <td>2500098</td>\n",
              "      <td>Shot</td>\n",
              "      <td>1623</td>\n",
              "      <td>2H</td>\n",
              "      <td>2381.481625</td>\n",
              "      <td>100</td>\n",
              "      <td>251596359</td>\n",
              "    </tr>\n",
              "    <tr>\n",
              "      <th>643149</th>\n",
              "      <td>10</td>\n",
              "      <td>Shot</td>\n",
              "      <td>[{'id': 403}, {'id': 201}, {'id': 1216}, {'id'...</td>\n",
              "      <td>8005</td>\n",
              "      <td>[{'y': 50, 'x': 86}, {'y': 0, 'x': 0}]</td>\n",
              "      <td>2500098</td>\n",
              "      <td>Shot</td>\n",
              "      <td>1633</td>\n",
              "      <td>2H</td>\n",
              "      <td>2834.127168</td>\n",
              "      <td>100</td>\n",
              "      <td>251596236</td>\n",
              "    </tr>\n",
              "  </tbody>\n",
              "</table>\n",
              "<p>8451 rows × 12 columns</p>\n",
              "</div>"
            ],
            "text/plain": [
              "        eventId subEventName  ... subEventId         id\n",
              "46           10         Shot  ...        100  177959212\n",
              "62           10         Shot  ...        100  177959247\n",
              "91           10         Shot  ...        100  177959280\n",
              "128          10         Shot  ...        100  177959289\n",
              "249          10         Shot  ...        100  177959429\n",
              "...         ...          ...  ...        ...        ...\n",
              "642945       10         Shot  ...        100  251596053\n",
              "643023       10         Shot  ...        100  251596096\n",
              "643051       10         Shot  ...        100  251596357\n",
              "643055       10         Shot  ...        100  251596359\n",
              "643149       10         Shot  ...        100  251596236\n",
              "\n",
              "[8451 rows x 12 columns]"
            ]
          },
          "metadata": {
            "tags": []
          },
          "execution_count": 22
        }
      ]
    },
    {
      "cell_type": "code",
      "metadata": {
        "id": "ADCu9hPSOWZz"
      },
      "source": [
        "shots_model=pd.DataFrame(columns=[\"Goal\",\"X\",\"Y\"])"
      ],
      "execution_count": 23,
      "outputs": []
    },
    {
      "cell_type": "code",
      "metadata": {
        "colab": {
          "base_uri": "https://localhost:8080/",
          "height": 49
        },
        "id": "tuz0QsTTOkj0",
        "outputId": "4a8df5f9-91ba-470c-ff24-6c1675444333"
      },
      "source": [
        "shots_model"
      ],
      "execution_count": 24,
      "outputs": [
        {
          "output_type": "execute_result",
          "data": {
            "text/html": [
              "<div>\n",
              "<style scoped>\n",
              "    .dataframe tbody tr th:only-of-type {\n",
              "        vertical-align: middle;\n",
              "    }\n",
              "\n",
              "    .dataframe tbody tr th {\n",
              "        vertical-align: top;\n",
              "    }\n",
              "\n",
              "    .dataframe thead th {\n",
              "        text-align: right;\n",
              "    }\n",
              "</style>\n",
              "<table border=\"1\" class=\"dataframe\">\n",
              "  <thead>\n",
              "    <tr style=\"text-align: right;\">\n",
              "      <th></th>\n",
              "      <th>Goal</th>\n",
              "      <th>X</th>\n",
              "      <th>Y</th>\n",
              "    </tr>\n",
              "  </thead>\n",
              "  <tbody>\n",
              "  </tbody>\n",
              "</table>\n",
              "</div>"
            ],
            "text/plain": [
              "Empty DataFrame\n",
              "Columns: [Goal, X, Y]\n",
              "Index: []"
            ]
          },
          "metadata": {
            "tags": []
          },
          "execution_count": 24
        }
      ]
    },
    {
      "cell_type": "code",
      "metadata": {
        "id": "96NbrC_gOmWn"
      },
      "source": [
        "for i,shot in shots.iterrows():\r\n",
        "  header=0\r\n",
        "  for shottags in shot[\"tags\"]:\r\n",
        "    if shottags[\"id\"]==403:\r\n",
        "      header=1\r\n",
        "  if not(header):\r\n",
        "    shots_model.at[i,\"X\"]=100-shot[\"positions\"][0][\"x\"]\r\n",
        "    shots_model.at[i,\"Y\"]=shot[\"positions\"][0][\"y\"]\r\n",
        "    shots_model.at[i,\"C\"]=abs(shot[\"positions\"][0][\"y\"]-50)\r\n",
        "\r\n",
        "    x=shots_model.at[i,\"X\"]*105/100\r\n",
        "    y=shots_model.at[i,\"Y\"]*65/100\r\n",
        "    shots_model.at[i,\"Distance\"]=np.sqrt(x**2+y**2)\r\n",
        "    a=np.arctan(7.32*x/(x**2+y**2-(7.32/2)**2))\r\n",
        "    if a<0:\r\n",
        "      a=np.pi+a\r\n",
        "    shots_model[i,\"Angle\"]=a\r\n",
        "    shots_model.at[i,\"Goal\"]=0\r\n",
        "    for shottags in shot['tags']:\r\n",
        "      if shottags['id']==101:\r\n",
        "        shots_model.at[i,\"Goal\"]=1"
      ],
      "execution_count": 28,
      "outputs": []
    },
    {
      "cell_type": "code",
      "metadata": {
        "id": "JjRbSAugWKbT"
      },
      "source": [
        "h_shot=np.histogram2d(shots_model['X'],shots_model[\"Y\"],bins=50,range=[[0,100],[0,100]])\r\n",
        "goals_only=shots_model[shots_model[\"Goal\"]==1]\r\n",
        "h_goal=np.histogram2d(goals_only['X'],goals_only[\"Y\"],bins=50,range=[[0,100],[0,100]])"
      ],
      "execution_count": 29,
      "outputs": []
    },
    {
      "cell_type": "code",
      "metadata": {
        "id": "LbwFW4mfaaNN"
      },
      "source": [
        "from FCPython import createGoalMouth"
      ],
      "execution_count": 31,
      "outputs": []
    },
    {
      "cell_type": "code",
      "metadata": {
        "colab": {
          "base_uri": "https://localhost:8080/",
          "height": 248
        },
        "id": "SdMlfVL2aOJv",
        "outputId": "82980c76-17af-43a2-c1c3-29cd8b64d060"
      },
      "source": [
        "(fig,ax)=createGoalMouth()"
      ],
      "execution_count": 33,
      "outputs": [
        {
          "output_type": "display_data",
          "data": {
            "image/png": "[encoded data removed]",
            "text/plain": [
              "<Figure size 432x288 with 1 Axes>"
            ]
          },
          "metadata": {
            "tags": [],
            "needs_background": "light"
          }
        }
      ]
    },
    {
      "cell_type": "code",
      "metadata": {
        "colab": {
          "base_uri": "https://localhost:8080/",
          "height": 273
        },
        "id": "aMvI7FwPaXsR",
        "outputId": "2e9978a6-b94c-4eb7-c1ce-b8c30dcb8de6"
      },
      "source": [
        "pos=ax.imshow(h_shot[0],extent=[-1,66,104,-1],aspect=\"auto\",cmap=plt.cm.Reds)\r\n",
        "fig.colorbar(pos,ax=ax)\r\n",
        "ax.set_title(\"no. of shots\")\r\n",
        "plt.xlim((-1,66))\r\n",
        "plt.ylim((-3,35))\r\n",
        "plt.tight_layout()\r\n",
        "plt.gca().set_aspect(\"equal\",adjustable=\"box\")\r\n",
        "plt.show()"
      ],
      "execution_count": 34,
      "outputs": [
        {
          "output_type": "display_data",
          "data": {
            "image/png": "[encoded data removed]",
            "text/plain": [
              "<Figure size 432x288 with 1 Axes>"
            ]
          },
          "metadata": {
            "tags": [],
            "needs_background": "light"
          }
        }
      ]
    },
    {
      "cell_type": "code",
      "metadata": {
        "colab": {
          "base_uri": "https://localhost:8080/",
          "height": 270
        },
        "id": "YqNrlQH0co3A",
        "outputId": "e834c997-c5c0-4836-e815-ee40124eabc1"
      },
      "source": [
        "fig"
      ],
      "execution_count": 37,
      "outputs": [
        {
          "output_type": "execute_result",
          "data": {
            "image/png": "[encoded data removed]",
            "text/plain": [
              "<Figure size 432x288 with 2 Axes>"
            ]
          },
          "metadata": {
            "tags": []
          },
          "execution_count": 37
        }
      ]
    },
    {
      "cell_type": "code",
      "metadata": {
        "colab": {
          "base_uri": "https://localhost:8080/",
          "height": 273
        },
        "id": "pX9dAi0kcr4J",
        "outputId": "3cd8c9fe-5a86-4bb6-98f9-e4c6944cd6ce"
      },
      "source": [
        "pos=ax.imshow(h_goal[0],extent=[-1,66,104,-1],aspect=\"auto\",cmap=plt.cm.Reds)\r\n",
        "fig.colorbar(pos,ax=ax)\r\n",
        "ax.set_title(\"no. of shots\")\r\n",
        "plt.xlim((-1,66))\r\n",
        "plt.ylim((-3,35))\r\n",
        "plt.tight_layout()\r\n",
        "plt.gca().set_aspect(\"equal\",adjustable=\"box\")\r\n",
        "plt.show()"
      ],
      "execution_count": 38,
      "outputs": [
        {
          "output_type": "display_data",
          "data": {
            "image/png": "[encoded data removed]",
            "text/plain": [
              "<Figure size 432x288 with 1 Axes>"
            ]
          },
          "metadata": {
            "tags": [],
            "needs_background": "light"
          }
        }
      ]
    },
    {
      "cell_type": "code",
      "metadata": {
        "colab": {
          "base_uri": "https://localhost:8080/",
          "height": 270
        },
        "id": "KINaEMBXc-k0",
        "outputId": "d49f1c7d-f70b-4361-c99a-8e12a536f23e"
      },
      "source": [
        "fig"
      ],
      "execution_count": 39,
      "outputs": [
        {
          "output_type": "execute_result",
          "data": {
            "image/png": "[encoded data removed]",
            "text/plain": [
              "<Figure size 432x288 with 3 Axes>"
            ]
          },
          "metadata": {
            "tags": []
          },
          "execution_count": 39
        }
      ]
    },
    {
      "cell_type": "code",
      "metadata": {
        "colab": {
          "base_uri": "https://localhost:8080/",
          "height": 327
        },
        "id": "xNx0oiZldAF1",
        "outputId": "339e6f8f-05f2-4d81-c86e-b85598b2f7ec"
      },
      "source": [
        "pos=ax.imshow(h_goal[0]/h_shot[0],extent=[-1,66,104,-1],aspect=\"auto\",cmap=plt.cm.Reds,vmin=0,vmax=0.5)\r\n",
        "fig.colorbar(pos,ax=ax)\r\n",
        "ax.set_title(\"no. of shots\")\r\n",
        "plt.xlim((-1,66))\r\n",
        "plt.ylim((-3,35))\r\n",
        "plt.tight_layout()\r\n",
        "plt.gca().set_aspect(\"equal\",adjustable=\"box\")\r\n",
        "plt.show()"
      ],
      "execution_count": 42,
      "outputs": [
        {
          "output_type": "stream",
          "text": [
            "/usr/local/lib/python3.6/dist-packages/ipykernel_launcher.py:1: RuntimeWarning: invalid value encountered in true_divide\n",
            "  \"\"\"Entry point for launching an IPython kernel.\n"
          ],
          "name": "stderr"
        },
        {
          "output_type": "display_data",
          "data": {
            "image/png": "[encoded data removed]",
            "text/plain": [
              "<Figure size 432x288 with 1 Axes>"
            ]
          },
          "metadata": {
            "tags": [],
            "needs_background": "light"
          }
        }
      ]
    },
    {
      "cell_type": "code",
      "metadata": {
        "colab": {
          "base_uri": "https://localhost:8080/",
          "height": 270
        },
        "id": "x_YST-SidMeD",
        "outputId": "9ee27f34-399c-4512-8a88-c4e28c0b8241"
      },
      "source": [
        "fig"
      ],
      "execution_count": 43,
      "outputs": [
        {
          "output_type": "execute_result",
          "data": {
            "image/png": "[encoded data removed]",
            "text/plain": [
              "<Figure size 432x288 with 5 Axes>"
            ]
          },
          "metadata": {
            "tags": []
          },
          "execution_count": 43
        }
      ]
    },
    {
      "cell_type": "code",
      "metadata": {
        "id": "1xBQJ1N4dYiu"
      },
      "source": [
        ""
      ],
      "execution_count": null,
      "outputs": []
    }
  ]
}