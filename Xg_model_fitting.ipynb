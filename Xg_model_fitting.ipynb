{
  "nbformat": 4,
  "nbformat_minor": 0,
  "metadata": {
    "colab": {
      "name": "Xg_model_fitting.ipynb",
      "provenance": [],
      "authorship_tag": "ABX9TyMtYvPG/4SI9ZzLj8yZUC33",
      "include_colab_link": true
    },
    "kernelspec": {
      "name": "python3",
      "display_name": "Python 3"
    }
  },
  "cells": [
    {
      "cell_type": "markdown",
      "metadata": {
        "id": "view-in-github",
        "colab_type": "text"
      },
      "source": [
        "<a href=\"https://colab.research.google.com/github/Dinesh-Adhithya-H/sports-analytics/blob/master/Xg_model_fitting.ipynb\" target=\"_parent\"><img src=\"https://colab.research.google.com/assets/colab-badge.svg\" alt=\"Open In Colab\"/></a>"
      ]
    },
    {
      "cell_type": "code",
      "metadata": {
        "id": "JzXzo86m-rIY"
      },
      "source": [
        "import pandas as pd\r\n",
        "import numpy as np\r\n",
        "import matplotlib.pyplot as plt\r\n",
        "import json"
      ],
      "execution_count": 50,
      "outputs": []
    },
    {
      "cell_type": "code",
      "metadata": {
        "colab": {
          "base_uri": "https://localhost:8080/"
        },
        "id": "PC3t_LivRjrJ",
        "outputId": "dd033691-5eb0-49dc-b2d0-75893cbfed44"
      },
      "source": [
        "from google.colab import drive\r\n",
        "drive.mount('/content/drive')"
      ],
      "execution_count": 51,
      "outputs": [
        {
          "output_type": "stream",
          "text": [
            "Drive already mounted at /content/drive; to attempt to forcibly remount, call drive.mount(\"/content/drive\", force_remount=True).\n"
          ],
          "name": "stdout"
        }
      ]
    },
    {
      "cell_type": "code",
      "metadata": {
        "colab": {
          "resources": {
            "http://localhost:8080/nbextensions/google.colab/files.js": {
              "data": "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",
              "ok": true,
              "headers": [
                [
                  "content-type",
                  "application/javascript"
                ]
              ],
              "status": 200,
              "status_text": ""
            }
          },
          "base_uri": "https://localhost:8080/",
          "height": 72
        },
        "id": "D0gKSVCGSMlZ",
        "outputId": "86c2a54f-334c-4cb4-c2a4-5abb41e8ab19"
      },
      "source": [
        "from google.colab import files\r\n",
        "src = list(files.upload().values())[0]\r\n",
        "open('FCPython.py','wb').write(src)\r\n",
        "from FCPython import createPitch"
      ],
      "execution_count": 52,
      "outputs": [
        {
          "output_type": "display_data",
          "data": {
            "text/html": [
              "\n",
              "     <input type=\"file\" id=\"files-182b7c15-ae95-4937-a4e4-cb638aca397c\" name=\"files[]\" multiple disabled\n",
              "        style=\"border:none\" />\n",
              "     <output id=\"result-182b7c15-ae95-4937-a4e4-cb638aca397c\">\n",
              "      Upload widget is only available when the cell has been executed in the\n",
              "      current browser session. Please rerun this cell to enable.\n",
              "      </output>\n",
              "      <script src=\"/nbextensions/google.colab/files.js\"></script> "
            ],
            "text/plain": [
              "<IPython.core.display.HTML object>"
            ]
          },
          "metadata": {
            "tags": []
          }
        },
        {
          "output_type": "stream",
          "text": [
            "Saving FCPython.py to FCPython (1).py\n"
          ],
          "name": "stdout"
        }
      ]
    },
    {
      "cell_type": "code",
      "metadata": {
        "id": "bphEMBadSUZT"
      },
      "source": [
        "with open(\"/content/drive/My Drive/Wyscout/events/events_England.json\") as file:\r\n",
        "  data=pd.read_json(file)"
      ],
      "execution_count": 53,
      "outputs": []
    },
    {
      "cell_type": "code",
      "metadata": {
        "id": "nxzjdg8pSzDe"
      },
      "source": [
        "shots=data[data.subEventName==\"Shot\"]"
      ],
      "execution_count": 54,
      "outputs": []
    },
    {
      "cell_type": "code",
      "metadata": {
        "id": "jrYg6t-HTnVQ"
      },
      "source": [
        "shots_model=pd.DataFrame(columns=[\"Goal\",\"X\",\"Y\",\"Angle\"])"
      ],
      "execution_count": 55,
      "outputs": []
    },
    {
      "cell_type": "code",
      "metadata": {
        "id": "bPTapXbPU_1z"
      },
      "source": [
        "for i,shot in shots.iterrows():\r\n",
        "  header=0\r\n",
        "  for shottags in shot[\"tags\"]:\r\n",
        "    if shottags[\"id\"]==403:\r\n",
        "      header=1\r\n",
        "  if not(header):\r\n",
        "    shots_model.at[i,\"X\"]=100-shot[\"positions\"][0][\"x\"]\r\n",
        "    shots_model.at[i,\"Y\"]=shot[\"positions\"][0][\"y\"]\r\n",
        "    shots_model.at[i,\"C\"]=abs(shot[\"positions\"][0][\"y\"]-50)\r\n",
        "    x=shots_model.at[i,\"X\"]*105/100\r\n",
        "    y=shots_model.at[i,\"C\"]*65/100\r\n",
        "    shots_model.at[i,\"Distance\"]=np.sqrt(x**2+y**2)\r\n",
        "    a=np.arctan(7.32*x/(x**2+y**2-(7.32/2)**2))\r\n",
        "    if a<0:\r\n",
        "      a=np.pi+a\r\n",
        "      shots_model.at[i,\"Angle\"]=a\r\n",
        "    else:\r\n",
        "      shots_model.at[i,\"Angle\"]=a\r\n",
        "    shots_model.at[i,\"Goal\"]=\"miss\"\r\n",
        "    for shottags in shot[\"tags\"]:\r\n",
        "      if shottags[\"id\"]==101:\r\n",
        "        shots_model.at[i,\"Goal\"]=\"goal\""
      ],
      "execution_count": 56,
      "outputs": []
    },
    {
      "cell_type": "code",
      "metadata": {
        "id": "KyNm1GwgVDQw",
        "colab": {
          "base_uri": "https://localhost:8080/",
          "height": 204
        },
        "outputId": "618deb17-a862-4778-ccf9-949cab5ae6dd"
      },
      "source": [
        "shots_model.head()"
      ],
      "execution_count": 57,
      "outputs": [
        {
          "output_type": "execute_result",
          "data": {
            "text/html": [
              "<div>\n",
              "<style scoped>\n",
              "    .dataframe tbody tr th:only-of-type {\n",
              "        vertical-align: middle;\n",
              "    }\n",
              "\n",
              "    .dataframe tbody tr th {\n",
              "        vertical-align: top;\n",
              "    }\n",
              "\n",
              "    .dataframe thead th {\n",
              "        text-align: right;\n",
              "    }\n",
              "</style>\n",
              "<table border=\"1\" class=\"dataframe\">\n",
              "  <thead>\n",
              "    <tr style=\"text-align: right;\">\n",
              "      <th></th>\n",
              "      <th>Goal</th>\n",
              "      <th>X</th>\n",
              "      <th>Y</th>\n",
              "      <th>Angle</th>\n",
              "      <th>C</th>\n",
              "      <th>Distance</th>\n",
              "    </tr>\n",
              "  </thead>\n",
              "  <tbody>\n",
              "    <tr>\n",
              "      <th>46</th>\n",
              "      <td>goal</td>\n",
              "      <td>12</td>\n",
              "      <td>41</td>\n",
              "      <td>0.474451</td>\n",
              "      <td>9.0</td>\n",
              "      <td>13.891814</td>\n",
              "    </tr>\n",
              "    <tr>\n",
              "      <th>62</th>\n",
              "      <td>miss</td>\n",
              "      <td>15</td>\n",
              "      <td>52</td>\n",
              "      <td>0.453823</td>\n",
              "      <td>2.0</td>\n",
              "      <td>15.803560</td>\n",
              "    </tr>\n",
              "    <tr>\n",
              "      <th>128</th>\n",
              "      <td>miss</td>\n",
              "      <td>19</td>\n",
              "      <td>33</td>\n",
              "      <td>0.280597</td>\n",
              "      <td>17.0</td>\n",
              "      <td>22.805811</td>\n",
              "    </tr>\n",
              "    <tr>\n",
              "      <th>249</th>\n",
              "      <td>miss</td>\n",
              "      <td>25</td>\n",
              "      <td>30</td>\n",
              "      <td>0.22368</td>\n",
              "      <td>20.0</td>\n",
              "      <td>29.292704</td>\n",
              "    </tr>\n",
              "    <tr>\n",
              "      <th>394</th>\n",
              "      <td>miss</td>\n",
              "      <td>10</td>\n",
              "      <td>39</td>\n",
              "      <td>0.479051</td>\n",
              "      <td>11.0</td>\n",
              "      <td>12.703248</td>\n",
              "    </tr>\n",
              "  </tbody>\n",
              "</table>\n",
              "</div>"
            ],
            "text/plain": [
              "     Goal   X   Y     Angle     C   Distance\n",
              "46   goal  12  41  0.474451   9.0  13.891814\n",
              "62   miss  15  52  0.453823   2.0  15.803560\n",
              "128  miss  19  33  0.280597  17.0  22.805811\n",
              "249  miss  25  30   0.22368  20.0  29.292704\n",
              "394  miss  10  39  0.479051  11.0  12.703248"
            ]
          },
          "metadata": {
            "tags": []
          },
          "execution_count": 57
        }
      ]
    },
    {
      "cell_type": "code",
      "metadata": {
        "colab": {
          "base_uri": "https://localhost:8080/",
          "height": 419
        },
        "id": "UHS0uXx0nnjG",
        "outputId": "c5287575-5779-43b8-8881-5b6170a7754d"
      },
      "source": [
        "shots_model.dropna()"
      ],
      "execution_count": 58,
      "outputs": [
        {
          "output_type": "execute_result",
          "data": {
            "text/html": [
              "<div>\n",
              "<style scoped>\n",
              "    .dataframe tbody tr th:only-of-type {\n",
              "        vertical-align: middle;\n",
              "    }\n",
              "\n",
              "    .dataframe tbody tr th {\n",
              "        vertical-align: top;\n",
              "    }\n",
              "\n",
              "    .dataframe thead th {\n",
              "        text-align: right;\n",
              "    }\n",
              "</style>\n",
              "<table border=\"1\" class=\"dataframe\">\n",
              "  <thead>\n",
              "    <tr style=\"text-align: right;\">\n",
              "      <th></th>\n",
              "      <th>Goal</th>\n",
              "      <th>X</th>\n",
              "      <th>Y</th>\n",
              "      <th>Angle</th>\n",
              "      <th>C</th>\n",
              "      <th>Distance</th>\n",
              "    </tr>\n",
              "  </thead>\n",
              "  <tbody>\n",
              "    <tr>\n",
              "      <th>46</th>\n",
              "      <td>goal</td>\n",
              "      <td>12</td>\n",
              "      <td>41</td>\n",
              "      <td>0.474451</td>\n",
              "      <td>9.0</td>\n",
              "      <td>13.891814</td>\n",
              "    </tr>\n",
              "    <tr>\n",
              "      <th>62</th>\n",
              "      <td>miss</td>\n",
              "      <td>15</td>\n",
              "      <td>52</td>\n",
              "      <td>0.453823</td>\n",
              "      <td>2.0</td>\n",
              "      <td>15.803560</td>\n",
              "    </tr>\n",
              "    <tr>\n",
              "      <th>128</th>\n",
              "      <td>miss</td>\n",
              "      <td>19</td>\n",
              "      <td>33</td>\n",
              "      <td>0.280597</td>\n",
              "      <td>17.0</td>\n",
              "      <td>22.805811</td>\n",
              "    </tr>\n",
              "    <tr>\n",
              "      <th>249</th>\n",
              "      <td>miss</td>\n",
              "      <td>25</td>\n",
              "      <td>30</td>\n",
              "      <td>0.22368</td>\n",
              "      <td>20.0</td>\n",
              "      <td>29.292704</td>\n",
              "    </tr>\n",
              "    <tr>\n",
              "      <th>394</th>\n",
              "      <td>miss</td>\n",
              "      <td>10</td>\n",
              "      <td>39</td>\n",
              "      <td>0.479051</td>\n",
              "      <td>11.0</td>\n",
              "      <td>12.703248</td>\n",
              "    </tr>\n",
              "    <tr>\n",
              "      <th>...</th>\n",
              "      <td>...</td>\n",
              "      <td>...</td>\n",
              "      <td>...</td>\n",
              "      <td>...</td>\n",
              "      <td>...</td>\n",
              "      <td>...</td>\n",
              "    </tr>\n",
              "    <tr>\n",
              "      <th>642939</th>\n",
              "      <td>miss</td>\n",
              "      <td>14</td>\n",
              "      <td>40</td>\n",
              "      <td>0.41392</td>\n",
              "      <td>10.0</td>\n",
              "      <td>16.072959</td>\n",
              "    </tr>\n",
              "    <tr>\n",
              "      <th>642945</th>\n",
              "      <td>miss</td>\n",
              "      <td>28</td>\n",
              "      <td>45</td>\n",
              "      <td>0.244789</td>\n",
              "      <td>5.0</td>\n",
              "      <td>29.579089</td>\n",
              "    </tr>\n",
              "    <tr>\n",
              "      <th>643023</th>\n",
              "      <td>goal</td>\n",
              "      <td>14</td>\n",
              "      <td>33</td>\n",
              "      <td>0.319916</td>\n",
              "      <td>17.0</td>\n",
              "      <td>18.390011</td>\n",
              "    </tr>\n",
              "    <tr>\n",
              "      <th>643051</th>\n",
              "      <td>miss</td>\n",
              "      <td>12</td>\n",
              "      <td>62</td>\n",
              "      <td>0.420593</td>\n",
              "      <td>12.0</td>\n",
              "      <td>14.818907</td>\n",
              "    </tr>\n",
              "    <tr>\n",
              "      <th>643055</th>\n",
              "      <td>miss</td>\n",
              "      <td>8</td>\n",
              "      <td>38</td>\n",
              "      <td>0.480357</td>\n",
              "      <td>12.0</td>\n",
              "      <td>11.462984</td>\n",
              "    </tr>\n",
              "  </tbody>\n",
              "</table>\n",
              "<p>7134 rows × 6 columns</p>\n",
              "</div>"
            ],
            "text/plain": [
              "        Goal   X   Y     Angle     C   Distance\n",
              "46      goal  12  41  0.474451   9.0  13.891814\n",
              "62      miss  15  52  0.453823   2.0  15.803560\n",
              "128     miss  19  33  0.280597  17.0  22.805811\n",
              "249     miss  25  30   0.22368  20.0  29.292704\n",
              "394     miss  10  39  0.479051  11.0  12.703248\n",
              "...      ...  ..  ..       ...   ...        ...\n",
              "642939  miss  14  40   0.41392  10.0  16.072959\n",
              "642945  miss  28  45  0.244789   5.0  29.579089\n",
              "643023  goal  14  33  0.319916  17.0  18.390011\n",
              "643051  miss  12  62  0.420593  12.0  14.818907\n",
              "643055  miss   8  38  0.480357  12.0  11.462984\n",
              "\n",
              "[7134 rows x 6 columns]"
            ]
          },
          "metadata": {
            "tags": []
          },
          "execution_count": 58
        }
      ]
    },
    {
      "cell_type": "code",
      "metadata": {
        "colab": {
          "base_uri": "https://localhost:8080/"
        },
        "id": "dum2PGFyqNNl",
        "outputId": "c9f0578e-5f5e-485d-c611-ccee8544d4ac"
      },
      "source": [
        "len(shots_model[shots_model['Goal'] == 'miss']),len(shots_model[shots_model['Goal'] == 'goal'])"
      ],
      "execution_count": 59,
      "outputs": [
        {
          "output_type": "execute_result",
          "data": {
            "text/plain": [
              "(6398, 736)"
            ]
          },
          "metadata": {
            "tags": []
          },
          "execution_count": 59
        }
      ]
    },
    {
      "cell_type": "code",
      "metadata": {
        "id": "eGx5FrSa8OcZ"
      },
      "source": [
        "non_goal=shots_model[shots_model[\"Goal\"]==\"miss\"]\r\n",
        "goal=shots_model[shots_model[\"Goal\"]==\"goal\"]\r\n",
        "n_goal=non_goal.iloc[:len(shots_model[shots_model['Goal'] == 'goal']),:]\r\n",
        "shots_data=pd.DataFrame()\r\n",
        "shots_data=pd.concat([goal,n_goal])"
      ],
      "execution_count": 60,
      "outputs": []
    },
    {
      "cell_type": "code",
      "metadata": {
        "colab": {
          "base_uri": "https://localhost:8080/"
        },
        "id": "rqPJ43QU-cqA",
        "outputId": "8c8a6632-e7b5-4a62-b571-b10107c9ee70"
      },
      "source": [
        "len(n_goal),len(goal)"
      ],
      "execution_count": 61,
      "outputs": [
        {
          "output_type": "execute_result",
          "data": {
            "text/plain": [
              "(736, 736)"
            ]
          },
          "metadata": {
            "tags": []
          },
          "execution_count": 61
        }
      ]
    },
    {
      "cell_type": "code",
      "metadata": {
        "colab": {
          "base_uri": "https://localhost:8080/",
          "height": 204
        },
        "id": "H_OKJhsS_QiH",
        "outputId": "59059168-f803-4699-ae99-f0c33d4f7f6e"
      },
      "source": [
        "shots_data.head()"
      ],
      "execution_count": 62,
      "outputs": [
        {
          "output_type": "execute_result",
          "data": {
            "text/html": [
              "<div>\n",
              "<style scoped>\n",
              "    .dataframe tbody tr th:only-of-type {\n",
              "        vertical-align: middle;\n",
              "    }\n",
              "\n",
              "    .dataframe tbody tr th {\n",
              "        vertical-align: top;\n",
              "    }\n",
              "\n",
              "    .dataframe thead th {\n",
              "        text-align: right;\n",
              "    }\n",
              "</style>\n",
              "<table border=\"1\" class=\"dataframe\">\n",
              "  <thead>\n",
              "    <tr style=\"text-align: right;\">\n",
              "      <th></th>\n",
              "      <th>Goal</th>\n",
              "      <th>X</th>\n",
              "      <th>Y</th>\n",
              "      <th>Angle</th>\n",
              "      <th>C</th>\n",
              "      <th>Distance</th>\n",
              "    </tr>\n",
              "  </thead>\n",
              "  <tbody>\n",
              "    <tr>\n",
              "      <th>46</th>\n",
              "      <td>goal</td>\n",
              "      <td>12</td>\n",
              "      <td>41</td>\n",
              "      <td>0.474451</td>\n",
              "      <td>9.0</td>\n",
              "      <td>13.891814</td>\n",
              "    </tr>\n",
              "    <tr>\n",
              "      <th>554</th>\n",
              "      <td>goal</td>\n",
              "      <td>6</td>\n",
              "      <td>54</td>\n",
              "      <td>0.948906</td>\n",
              "      <td>4.0</td>\n",
              "      <td>6.815424</td>\n",
              "    </tr>\n",
              "    <tr>\n",
              "      <th>898</th>\n",
              "      <td>goal</td>\n",
              "      <td>8</td>\n",
              "      <td>50</td>\n",
              "      <td>0.821821</td>\n",
              "      <td>0.0</td>\n",
              "      <td>8.400000</td>\n",
              "    </tr>\n",
              "    <tr>\n",
              "      <th>1570</th>\n",
              "      <td>goal</td>\n",
              "      <td>6</td>\n",
              "      <td>63</td>\n",
              "      <td>0.441023</td>\n",
              "      <td>13.0</td>\n",
              "      <td>10.540043</td>\n",
              "    </tr>\n",
              "    <tr>\n",
              "      <th>2982</th>\n",
              "      <td>goal</td>\n",
              "      <td>11</td>\n",
              "      <td>55</td>\n",
              "      <td>0.574628</td>\n",
              "      <td>5.0</td>\n",
              "      <td>11.998542</td>\n",
              "    </tr>\n",
              "  </tbody>\n",
              "</table>\n",
              "</div>"
            ],
            "text/plain": [
              "      Goal   X   Y     Angle     C   Distance\n",
              "46    goal  12  41  0.474451   9.0  13.891814\n",
              "554   goal   6  54  0.948906   4.0   6.815424\n",
              "898   goal   8  50  0.821821   0.0   8.400000\n",
              "1570  goal   6  63  0.441023  13.0  10.540043\n",
              "2982  goal  11  55  0.574628   5.0  11.998542"
            ]
          },
          "metadata": {
            "tags": []
          },
          "execution_count": 62
        }
      ]
    },
    {
      "cell_type": "code",
      "metadata": {
        "id": "OIjzAE8O_j-7"
      },
      "source": [
        "from sklearn.utils import shuffle\r\n",
        "shots_data = shuffle(shots_data)"
      ],
      "execution_count": 63,
      "outputs": []
    },
    {
      "cell_type": "code",
      "metadata": {
        "colab": {
          "base_uri": "https://localhost:8080/"
        },
        "id": "AwrLYTPoGniv",
        "outputId": "9e5c4e58-0636-4612-aeb9-5cf253b7fab8"
      },
      "source": [
        "max(list(shots_model[\"X\"])),max(list(shots_model[\"Y\"])),min(list(shots_model[\"X\"])),min(list(shots_model[\"Y\"]))"
      ],
      "execution_count": 64,
      "outputs": [
        {
          "output_type": "execute_result",
          "data": {
            "text/plain": [
              "(59, 99, 0, 7)"
            ]
          },
          "metadata": {
            "tags": []
          },
          "execution_count": 64
        }
      ]
    },
    {
      "cell_type": "code",
      "metadata": {
        "id": "XQ6EYO4RqbUj",
        "colab": {
          "base_uri": "https://localhost:8080/",
          "height": 265
        },
        "outputId": "54bf03da-5a0e-4d1a-bfba-ddb15674bff0"
      },
      "source": [
        "plt.hist2d(list(shots_model[\"X\"]),list(shots_model[\"Y\"]),bins=10,cmap=plt.cm.get_cmap('Reds', 10))\r\n",
        "plt.ylim(7,99)\r\n",
        "plt.xlim(0,59)\r\n",
        "plt.colorbar()\r\n",
        "plt.show()"
      ],
      "execution_count": 65,
      "outputs": [
        {
          "output_type": "display_data",
          "data": {
            "image/png": "[encoded data removed]",
            "text/plain": [
              "<Figure size 432x288 with 2 Axes>"
            ]
          },
          "metadata": {
            "tags": [],
            "needs_background": "light"
          }
        }
      ]
    },
    {
      "cell_type": "code",
      "metadata": {
        "colab": {
          "base_uri": "https://localhost:8080/",
          "height": 419
        },
        "id": "WRhAhyyJJFVY",
        "outputId": "0e4085b3-9b50-4a8a-e047-a1beb7cd2ec5"
      },
      "source": [
        "shots_data.drop(axis=1,columns=[\"C\"])"
      ],
      "execution_count": 66,
      "outputs": [
        {
          "output_type": "execute_result",
          "data": {
            "text/html": [
              "<div>\n",
              "<style scoped>\n",
              "    .dataframe tbody tr th:only-of-type {\n",
              "        vertical-align: middle;\n",
              "    }\n",
              "\n",
              "    .dataframe tbody tr th {\n",
              "        vertical-align: top;\n",
              "    }\n",
              "\n",
              "    .dataframe thead th {\n",
              "        text-align: right;\n",
              "    }\n",
              "</style>\n",
              "<table border=\"1\" class=\"dataframe\">\n",
              "  <thead>\n",
              "    <tr style=\"text-align: right;\">\n",
              "      <th></th>\n",
              "      <th>Goal</th>\n",
              "      <th>X</th>\n",
              "      <th>Y</th>\n",
              "      <th>Angle</th>\n",
              "      <th>Distance</th>\n",
              "    </tr>\n",
              "  </thead>\n",
              "  <tbody>\n",
              "    <tr>\n",
              "      <th>45210</th>\n",
              "      <td>miss</td>\n",
              "      <td>23</td>\n",
              "      <td>60</td>\n",
              "      <td>0.281166</td>\n",
              "      <td>25.009448</td>\n",
              "    </tr>\n",
              "    <tr>\n",
              "      <th>566841</th>\n",
              "      <td>goal</td>\n",
              "      <td>8</td>\n",
              "      <td>56</td>\n",
              "      <td>0.704251</td>\n",
              "      <td>9.261209</td>\n",
              "    </tr>\n",
              "    <tr>\n",
              "      <th>63929</th>\n",
              "      <td>miss</td>\n",
              "      <td>31</td>\n",
              "      <td>29</td>\n",
              "      <td>0.190974</td>\n",
              "      <td>35.296246</td>\n",
              "    </tr>\n",
              "    <tr>\n",
              "      <th>476657</th>\n",
              "      <td>goal</td>\n",
              "      <td>6</td>\n",
              "      <td>67</td>\n",
              "      <td>0.3013</td>\n",
              "      <td>12.719768</td>\n",
              "    </tr>\n",
              "    <tr>\n",
              "      <th>3973</th>\n",
              "      <td>miss</td>\n",
              "      <td>19</td>\n",
              "      <td>30</td>\n",
              "      <td>0.257911</td>\n",
              "      <td>23.811814</td>\n",
              "    </tr>\n",
              "    <tr>\n",
              "      <th>...</th>\n",
              "      <td>...</td>\n",
              "      <td>...</td>\n",
              "      <td>...</td>\n",
              "      <td>...</td>\n",
              "      <td>...</td>\n",
              "    </tr>\n",
              "    <tr>\n",
              "      <th>315988</th>\n",
              "      <td>goal</td>\n",
              "      <td>10</td>\n",
              "      <td>45</td>\n",
              "      <td>0.621073</td>\n",
              "      <td>10.991474</td>\n",
              "    </tr>\n",
              "    <tr>\n",
              "      <th>320126</th>\n",
              "      <td>goal</td>\n",
              "      <td>4</td>\n",
              "      <td>52</td>\n",
              "      <td>1.38012</td>\n",
              "      <td>4.396590</td>\n",
              "    </tr>\n",
              "    <tr>\n",
              "      <th>59531</th>\n",
              "      <td>miss</td>\n",
              "      <td>3</td>\n",
              "      <td>28</td>\n",
              "      <td>0.114208</td>\n",
              "      <td>14.642831</td>\n",
              "    </tr>\n",
              "    <tr>\n",
              "      <th>394431</th>\n",
              "      <td>goal</td>\n",
              "      <td>13</td>\n",
              "      <td>54</td>\n",
              "      <td>0.507489</td>\n",
              "      <td>13.895413</td>\n",
              "    </tr>\n",
              "    <tr>\n",
              "      <th>254392</th>\n",
              "      <td>goal</td>\n",
              "      <td>8</td>\n",
              "      <td>72</td>\n",
              "      <td>0.230809</td>\n",
              "      <td>16.584631</td>\n",
              "    </tr>\n",
              "  </tbody>\n",
              "</table>\n",
              "<p>1472 rows × 5 columns</p>\n",
              "</div>"
            ],
            "text/plain": [
              "        Goal   X   Y     Angle   Distance\n",
              "45210   miss  23  60  0.281166  25.009448\n",
              "566841  goal   8  56  0.704251   9.261209\n",
              "63929   miss  31  29  0.190974  35.296246\n",
              "476657  goal   6  67    0.3013  12.719768\n",
              "3973    miss  19  30  0.257911  23.811814\n",
              "...      ...  ..  ..       ...        ...\n",
              "315988  goal  10  45  0.621073  10.991474\n",
              "320126  goal   4  52   1.38012   4.396590\n",
              "59531   miss   3  28  0.114208  14.642831\n",
              "394431  goal  13  54  0.507489  13.895413\n",
              "254392  goal   8  72  0.230809  16.584631\n",
              "\n",
              "[1472 rows x 5 columns]"
            ]
          },
          "metadata": {
            "tags": []
          },
          "execution_count": 66
        }
      ]
    },
    {
      "cell_type": "code",
      "metadata": {
        "id": "Mc7qb9O6K9RK"
      },
      "source": [
        "from sklearn.model_selection import train_test_split\r\n",
        "x=shots_data[[\"X\",\"Y\",\"Distance\",\"Angle\"]]\r\n",
        "y=shots_data[\"Goal\"]\r\n",
        "x_train,x_test,y_train,y_test=train_test_split(x,y,random_state=0)"
      ],
      "execution_count": 67,
      "outputs": []
    },
    {
      "cell_type": "code",
      "metadata": {
        "id": "zcneqrfsQsBR"
      },
      "source": [
        "from sklearn.neighbors import KNeighborsClassifier\r\n",
        "knn=KNeighborsClassifier(n_neighbors=5)"
      ],
      "execution_count": 68,
      "outputs": []
    },
    {
      "cell_type": "code",
      "metadata": {
        "colab": {
          "base_uri": "https://localhost:8080/"
        },
        "id": "rle2ICUzSVM-",
        "outputId": "507fb35e-3f62-4c2b-f4c0-74a110b81a44"
      },
      "source": [
        "knn.fit(x_train,y_train)\r\n"
      ],
      "execution_count": 69,
      "outputs": [
        {
          "output_type": "execute_result",
          "data": {
            "text/plain": [
              "KNeighborsClassifier(algorithm='auto', leaf_size=30, metric='minkowski',\n",
              "                     metric_params=None, n_jobs=None, n_neighbors=5, p=2,\n",
              "                     weights='uniform')"
            ]
          },
          "metadata": {
            "tags": []
          },
          "execution_count": 69
        }
      ]
    },
    {
      "cell_type": "code",
      "metadata": {
        "colab": {
          "base_uri": "https://localhost:8080/"
        },
        "id": "hYxtsPtJSX22",
        "outputId": "2bf025f9-0407-41e8-c4f9-9ffc99a956a3"
      },
      "source": [
        "knn.score(x_test,y_test)"
      ],
      "execution_count": 70,
      "outputs": [
        {
          "output_type": "execute_result",
          "data": {
            "text/plain": [
              "0.6847826086956522"
            ]
          },
          "metadata": {
            "tags": []
          },
          "execution_count": 70
        }
      ]
    },
    {
      "cell_type": "code",
      "metadata": {
        "colab": {
          "base_uri": "https://localhost:8080/",
          "height": 279
        },
        "id": "Tt27lX8cSdzW",
        "outputId": "ca1e1a29-7566-4aa0-856f-a06a44740357"
      },
      "source": [
        "k_range=range(1,20)\r\n",
        "scores=[]\r\n",
        "for k in k_range:\r\n",
        "    knn=KNeighborsClassifier(n_neighbors=k)\r\n",
        "    knn.fit(x_train,y_train)\r\n",
        "    scores.append(knn.score(x_test,y_test))\r\n",
        "plt.figure()\r\n",
        "plt.xlabel(\"k\")\r\n",
        "plt.ylabel(\"accuracy\")\r\n",
        "plt.scatter(k_range,scores)\r\n",
        "plt.xticks([0,5,10,15,20])\r\n",
        "plt.show()"
      ],
      "execution_count": 71,
      "outputs": [
        {
          "output_type": "display_data",
          "data": {
            "image/png": "[encoded data removed]",
            "text/plain": [
              "<Figure size 432x288 with 1 Axes>"
            ]
          },
          "metadata": {
            "tags": [],
            "needs_background": "light"
          }
        }
      ]
    },
    {
      "cell_type": "code",
      "metadata": {
        "colab": {
          "base_uri": "https://localhost:8080/",
          "height": 279
        },
        "id": "fPzM-ka_kFNi",
        "outputId": "a59e3331-1285-4c35-d459-a708753d6bc2"
      },
      "source": [
        "plot_confusion_matrix(knn,x_test,y_test)\r\n",
        "plt.show()"
      ],
      "execution_count": 81,
      "outputs": [
        {
          "output_type": "display_data",
          "data": {
            "image/png": "[encoded data removed]",
            "text/plain": [
              "<Figure size 432x288 with 2 Axes>"
            ]
          },
          "metadata": {
            "tags": [],
            "needs_background": "light"
          }
        }
      ]
    },
    {
      "cell_type": "code",
      "metadata": {
        "id": "1QZmI_hATf39"
      },
      "source": [
        "from sklearn.linear_model import LogisticRegression"
      ],
      "execution_count": 72,
      "outputs": []
    },
    {
      "cell_type": "code",
      "metadata": {
        "id": "5Ut24kMfaVsv"
      },
      "source": [
        "clf=LogisticRegression().fit(x_train,y_train)"
      ],
      "execution_count": 73,
      "outputs": []
    },
    {
      "cell_type": "code",
      "metadata": {
        "colab": {
          "base_uri": "https://localhost:8080/",
          "height": 279
        },
        "id": "k6XNCemVadlH",
        "outputId": "5493ac93-a540-45dd-d1ce-cb8a86e39771"
      },
      "source": [
        "from sklearn.metrics import plot_confusion_matrix\r\n",
        "plot_confusion_matrix(clf,x_test,y_test)\r\n",
        "plt.show()"
      ],
      "execution_count": 74,
      "outputs": [
        {
          "output_type": "display_data",
          "data": {
            "image/png": "[encoded data removed]",
            "text/plain": [
              "<Figure size 432x288 with 2 Axes>"
            ]
          },
          "metadata": {
            "tags": [],
            "needs_background": "light"
          }
        }
      ]
    },
    {
      "cell_type": "code",
      "metadata": {
        "colab": {
          "base_uri": "https://localhost:8080/"
        },
        "id": "gODzodqQbMvQ",
        "outputId": "b5c10171-254a-44d5-f371-7d0369350517"
      },
      "source": [
        "print('Accuracy of Logistic regression classifier on training set: {:.2f}'\r\n",
        "     .format(clf.score(x_train, y_train)))\r\n",
        "print('Accuracy of Logistic regression classifier on test set: {:.2f}'\r\n",
        "     .format(clf.score(x_test, y_test)))"
      ],
      "execution_count": 75,
      "outputs": [
        {
          "output_type": "stream",
          "text": [
            "Accuracy of Logistic regression classifier on training set: 0.73\n",
            "Accuracy of Logistic regression classifier on test set: 0.72\n"
          ],
          "name": "stdout"
        }
      ]
    },
    {
      "cell_type": "code",
      "metadata": {
        "id": "nVTVmv8BbVaS"
      },
      "source": [
        "from sklearn.svm import SVC\r\n",
        "this_c=1.0\r\n",
        "clf=SVC(kernel=\"linear\",C=this_c).fit(x_train,y_train)"
      ],
      "execution_count": 76,
      "outputs": []
    },
    {
      "cell_type": "code",
      "metadata": {
        "colab": {
          "base_uri": "https://localhost:8080/",
          "height": 279
        },
        "id": "COZAnbK4JTr2",
        "outputId": "f084daa6-0302-4c6a-fc5b-a1afca0a3748"
      },
      "source": [
        "plot_confusion_matrix(clf,x_test,y_test)\r\n",
        "plt.show()"
      ],
      "execution_count": 77,
      "outputs": [
        {
          "output_type": "display_data",
          "data": {
            "image/png": "[encoded data removed]",
            "text/plain": [
              "<Figure size 432x288 with 2 Axes>"
            ]
          },
          "metadata": {
            "tags": [],
            "needs_background": "light"
          }
        }
      ]
    },
    {
      "cell_type": "code",
      "metadata": {
        "colab": {
          "base_uri": "https://localhost:8080/"
        },
        "id": "yttN0QN4LBAh",
        "outputId": "1f1592b8-eb91-4a38-aa62-e0a072d28969"
      },
      "source": [
        "print(\"accuracy of test class\",clf.score(x_test,y_test))\r\n",
        "print(\"accuracy of train class\",clf.score(x_train,y_train))"
      ],
      "execution_count": 78,
      "outputs": [
        {
          "output_type": "stream",
          "text": [
            "accuracy of test class 0.7038043478260869\n",
            "accuracy of train class 0.7445652173913043\n"
          ],
          "name": "stdout"
        }
      ]
    },
    {
      "cell_type": "code",
      "metadata": {
        "colab": {
          "base_uri": "https://localhost:8080/"
        },
        "id": "LcZG6XUGJtdc",
        "outputId": "7ac64a50-6cff-484f-e656-46382935b1ae"
      },
      "source": [
        "from sklearn.tree import DecisionTreeClassifier\r\n",
        "clf1=DecisionTreeClassifier(max_depth=3).fit(x_train,y_train)\r\n",
        "print(\"accuracy of test class\",clf1.score(x_test,y_test))\r\n",
        "print(\"accuracy of train class\",clf1.score(x_train,y_train))"
      ],
      "execution_count": 79,
      "outputs": [
        {
          "output_type": "stream",
          "text": [
            "accuracy of test class 0.7065217391304348\n",
            "accuracy of train class 0.7490942028985508\n"
          ],
          "name": "stdout"
        }
      ]
    },
    {
      "cell_type": "code",
      "metadata": {
        "colab": {
          "base_uri": "https://localhost:8080/",
          "height": 279
        },
        "id": "m7bCqhSNKzS8",
        "outputId": "2357ab45-9546-4dbe-f6fd-217a27664bb0"
      },
      "source": [
        "plot_confusion_matrix(clf,x_test,y_test)\r\n",
        "plt.show()"
      ],
      "execution_count": 80,
      "outputs": [
        {
          "output_type": "display_data",
          "data": {
            "image/png": "[encoded data removed]",
            "text/plain": [
              "<Figure size 432x288 with 2 Axes>"
            ]
          },
          "metadata": {
            "tags": [],
            "needs_background": "light"
          }
        }
      ]
    },
    {
      "cell_type": "code",
      "metadata": {
        "id": "d7lJgww_j-u5"
      },
      "source": [
        "from sklearn.preprocessing import PolynomialFeatures\r\n",
        "from sklearn.pipeline import Pipeline\r\n",
        "from sklearn.linear_model import LinearRegression\r\n",
        "model = Pipeline([('poly', PolynomialFeatures(degree=3)),('linear', LinearRegression(fit_intercept=False))])\r\n",
        "y_train_=[]\r\n",
        "for i in  y_train:\r\n",
        "  if i==\"miss\":\r\n",
        "    y_train_.append(0)\r\n",
        "  else:\r\n",
        "    y_train_.append(1)\r\n",
        "model = model.fit(x_train,y_train_)"
      ],
      "execution_count": 85,
      "outputs": []
    },
    {
      "cell_type": "code",
      "metadata": {
        "id": "Q9rNpHsplPCR"
      },
      "source": [
        "y_test_=[]\r\n",
        "for i in  y_test:\r\n",
        "  if i==\"miss\":\r\n",
        "    y_test_.append(0)\r\n",
        "  else:\r\n",
        "    y_test_.append(1)"
      ],
      "execution_count": 86,
      "outputs": []
    },
    {
      "cell_type": "code",
      "metadata": {
        "colab": {
          "base_uri": "https://localhost:8080/"
        },
        "id": "ytbWmh-rl9E1",
        "outputId": "af466dac-0234-4928-88f7-7aeaa64b3290"
      },
      "source": [
        "model.score(x_test,y_test_)"
      ],
      "execution_count": 89,
      "outputs": [
        {
          "output_type": "execute_result",
          "data": {
            "text/plain": [
              "0.09776415577208096"
            ]
          },
          "metadata": {
            "tags": []
          },
          "execution_count": 89
        }
      ]
    },
    {
      "cell_type": "code",
      "metadata": {
        "colab": {
          "base_uri": "https://localhost:8080/"
        },
        "id": "L2VWY7Yjl38o",
        "outputId": "62fb2d3d-93d6-49b3-9237-62dc3950f729"
      },
      "source": [
        "from sklearn.metrics import accuracy_score\r\n",
        "np.sum(model.predict(x_test)-y_test_)"
      ],
      "execution_count": 94,
      "outputs": [
        {
          "output_type": "execute_result",
          "data": {
            "text/plain": [
              "0.5856137391144784"
            ]
          },
          "metadata": {
            "tags": []
          },
          "execution_count": 94
        }
      ]
    },
    {
      "cell_type": "code",
      "metadata": {
        "id": "JZqq9KP-mcrl"
      },
      "source": [
        ""
      ],
      "execution_count": null,
      "outputs": []
    }
  ]
}