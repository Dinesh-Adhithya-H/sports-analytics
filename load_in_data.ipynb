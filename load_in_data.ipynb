{
 "cells": [
  {
   "cell_type": "code",
   "execution_count": 1,
   "metadata": {},
   "outputs": [],
   "source": [
    "import json"
   ]
  },
  {
   "cell_type": "code",
   "execution_count": 2,
   "metadata": {},
   "outputs": [],
   "source": [
    "with open(\"Statsbomb/competitions.json\") as f:\n",
    "    c=json.load(f)"
   ]
  },
  {
   "cell_type": "code",
   "execution_count": 9,
   "metadata": {},
   "outputs": [
    {
     "data": {
      "text/plain": [
       "[{'competition_id': 37,\n",
       "  'season_id': 42,\n",
       "  'country_name': 'England',\n",
       "  'competition_name': \"FA Women's Super League\",\n",
       "  'competition_gender': 'female',\n",
       "  'season_name': '2019/2020',\n",
       "  'match_updated': '2020-05-10T17:05:18.926659',\n",
       "  'match_available': '2020-05-10T17:05:18.926659'},\n",
       " {'competition_id': 37,\n",
       "  'season_id': 4,\n",
       "  'country_name': 'England',\n",
       "  'competition_name': \"FA Women's Super League\",\n",
       "  'competition_gender': 'female',\n",
       "  'season_name': '2018/2019',\n",
       "  'match_updated': '2020-04-23T19:04:49.880742',\n",
       "  'match_available': '2020-04-23T19:04:49.880742'},\n",
       " {'competition_id': 43,\n",
       "  'season_id': 3,\n",
       "  'country_name': 'International',\n",
       "  'competition_name': 'FIFA World Cup',\n",
       "  'competition_gender': 'male',\n",
       "  'season_name': '2018',\n",
       "  'match_updated': '2019-12-16T23:09:16.168756',\n",
       "  'match_available': '2019-12-16T23:09:16.168756'},\n",
       " {'competition_id': 11,\n",
       "  'season_id': 4,\n",
       "  'country_name': 'Spain',\n",
       "  'competition_name': 'La Liga',\n",
       "  'competition_gender': 'male',\n",
       "  'season_name': '2018/2019',\n",
       "  'match_updated': '2020-04-21T21:40:19.168478',\n",
       "  'match_available': '2020-04-21T21:40:19.168478'},\n",
       " {'competition_id': 11,\n",
       "  'season_id': 1,\n",
       "  'country_name': 'Spain',\n",
       "  'competition_name': 'La Liga',\n",
       "  'competition_gender': 'male',\n",
       "  'season_name': '2017/2018',\n",
       "  'match_updated': '2020-05-03T17:05:26.772937',\n",
       "  'match_available': '2020-05-03T17:05:26.772937'},\n",
       " {'competition_id': 11,\n",
       "  'season_id': 2,\n",
       "  'country_name': 'Spain',\n",
       "  'competition_name': 'La Liga',\n",
       "  'competition_gender': 'male',\n",
       "  'season_name': '2016/2017',\n",
       "  'match_updated': '2020-04-01T14:15:08.846728',\n",
       "  'match_available': '2019-12-16T23:09:16.168756'},\n",
       " {'competition_id': 11,\n",
       "  'season_id': 27,\n",
       "  'country_name': 'Spain',\n",
       "  'competition_name': 'La Liga',\n",
       "  'competition_gender': 'male',\n",
       "  'season_name': '2015/2016',\n",
       "  'match_updated': '2020-04-13T23:02:59.803428',\n",
       "  'match_available': '2020-04-13T23:02:59.803428'},\n",
       " {'competition_id': 11,\n",
       "  'season_id': 26,\n",
       "  'country_name': 'Spain',\n",
       "  'competition_name': 'La Liga',\n",
       "  'competition_gender': 'male',\n",
       "  'season_name': '2014/2015',\n",
       "  'match_updated': '2019-12-16T23:09:16.168756',\n",
       "  'match_available': '2019-12-16T23:09:16.168756'},\n",
       " {'competition_id': 11,\n",
       "  'season_id': 25,\n",
       "  'country_name': 'Spain',\n",
       "  'competition_name': 'La Liga',\n",
       "  'competition_gender': 'male',\n",
       "  'season_name': '2013/2014',\n",
       "  'match_updated': '2019-12-16T23:09:16.168756',\n",
       "  'match_available': '2019-12-16T23:09:16.168756'},\n",
       " {'competition_id': 11,\n",
       "  'season_id': 24,\n",
       "  'country_name': 'Spain',\n",
       "  'competition_name': 'La Liga',\n",
       "  'competition_gender': 'male',\n",
       "  'season_name': '2012/2013',\n",
       "  'match_updated': '2020-04-13T23:02:59.803428',\n",
       "  'match_available': '2020-04-13T23:02:59.803428'},\n",
       " {'competition_id': 11,\n",
       "  'season_id': 23,\n",
       "  'country_name': 'Spain',\n",
       "  'competition_name': 'La Liga',\n",
       "  'competition_gender': 'male',\n",
       "  'season_name': '2011/2012',\n",
       "  'match_updated': '2020-04-13T23:02:59.803428',\n",
       "  'match_available': '2020-04-13T23:02:59.803428'},\n",
       " {'competition_id': 11,\n",
       "  'season_id': 22,\n",
       "  'country_name': 'Spain',\n",
       "  'competition_name': 'La Liga',\n",
       "  'competition_gender': 'male',\n",
       "  'season_name': '2010/2011',\n",
       "  'match_updated': '2020-04-09T13:13:49.345111',\n",
       "  'match_available': '2020-04-09T13:13:49.345111'},\n",
       " {'competition_id': 11,\n",
       "  'season_id': 21,\n",
       "  'country_name': 'Spain',\n",
       "  'competition_name': 'La Liga',\n",
       "  'competition_gender': 'male',\n",
       "  'season_name': '2009/2010',\n",
       "  'match_updated': '2019-12-16T23:09:16.168756',\n",
       "  'match_available': '2019-12-16T23:09:16.168756'},\n",
       " {'competition_id': 11,\n",
       "  'season_id': 41,\n",
       "  'country_name': 'Spain',\n",
       "  'competition_name': 'La Liga',\n",
       "  'competition_gender': 'male',\n",
       "  'season_name': '2008/2009',\n",
       "  'match_updated': '2019-12-16T23:09:16.168756',\n",
       "  'match_available': '2019-12-16T23:09:16.168756'},\n",
       " {'competition_id': 11,\n",
       "  'season_id': 40,\n",
       "  'country_name': 'Spain',\n",
       "  'competition_name': 'La Liga',\n",
       "  'competition_gender': 'male',\n",
       "  'season_name': '2007/2008',\n",
       "  'match_updated': '2019-12-16T23:09:16.168756',\n",
       "  'match_available': '2019-12-16T23:09:16.168756'},\n",
       " {'competition_id': 11,\n",
       "  'season_id': 39,\n",
       "  'country_name': 'Spain',\n",
       "  'competition_name': 'La Liga',\n",
       "  'competition_gender': 'male',\n",
       "  'season_name': '2006/2007',\n",
       "  'match_updated': '2019-12-16T23:09:16.168756',\n",
       "  'match_available': '2019-12-16T23:09:16.168756'},\n",
       " {'competition_id': 11,\n",
       "  'season_id': 38,\n",
       "  'country_name': 'Spain',\n",
       "  'competition_name': 'La Liga',\n",
       "  'competition_gender': 'male',\n",
       "  'season_name': '2005/2006',\n",
       "  'match_updated': '2020-02-27T12:19:39.458017',\n",
       "  'match_available': '2020-02-27T12:19:39.458017'},\n",
       " {'competition_id': 11,\n",
       "  'season_id': 37,\n",
       "  'country_name': 'Spain',\n",
       "  'competition_name': 'La Liga',\n",
       "  'competition_gender': 'male',\n",
       "  'season_name': '2004/2005',\n",
       "  'match_updated': '2019-12-16T23:09:16.168756',\n",
       "  'match_available': '2019-12-16T23:09:16.168756'},\n",
       " {'competition_id': 49,\n",
       "  'season_id': 3,\n",
       "  'country_name': 'United States of America',\n",
       "  'competition_name': 'NWSL',\n",
       "  'competition_gender': 'female',\n",
       "  'season_name': '2018',\n",
       "  'match_updated': '2020-02-27T15:22:21.167136',\n",
       "  'match_available': '2019-12-16T23:09:16.168756'},\n",
       " {'competition_id': 72,\n",
       "  'season_id': 30,\n",
       "  'country_name': 'International',\n",
       "  'competition_name': \"Women's World Cup\",\n",
       "  'competition_gender': 'female',\n",
       "  'season_name': '2019',\n",
       "  'match_updated': '2020-02-27T12:19:39.458017',\n",
       "  'match_available': '2020-02-27T12:19:39.458017'}]"
      ]
     },
     "execution_count": 9,
     "metadata": {},
     "output_type": "execute_result"
    }
   ],
   "source": [
    "c"
   ]
  },
  {
   "cell_type": "code",
   "execution_count": 4,
   "metadata": {},
   "outputs": [],
   "source": [
    "c_id=72"
   ]
  },
  {
   "cell_type": "code",
   "execution_count": 5,
   "metadata": {},
   "outputs": [],
   "source": [
    "with open(\"Statsbomb/matches/\"+str(c_id)+\"/30.json\") as f:\n",
    "    matches=json.load(f)"
   ]
  },
  {
   "cell_type": "code",
   "execution_count": 6,
   "metadata": {},
   "outputs": [],
   "source": [
    "matches;"
   ]
  },
  {
   "cell_type": "code",
   "execution_count": 7,
   "metadata": {},
   "outputs": [
    {
     "name": "stdout",
     "output_type": "stream",
     "text": [
      "the match between Norway Women'sandAustralia Women'sfinished1:1\n",
      "the match between Australia Women'sandBrazil Women'sfinished3:2\n",
      "the match between South Africa Women'sandGermany Women'sfinished0:4\n",
      "the match between China PR Women'sandSpain Women'sfinished0:0\n",
      "the match between Scotland Women'sandArgentina Women'sfinished3:3\n",
      "the match between Spain Women'sandUnited States Women'sfinished1:2\n",
      "the match between Sweden Women'sandCanada Women'sfinished1:0\n",
      "the match between Spain Women'sandSouth Africa Women'sfinished3:1\n",
      "the match between Germany Women'sandChina PR Women'sfinished1:0\n",
      "the match between Brazil Women'sandJamaica Women'sfinished3:0\n",
      "the match between Australia Women'sandItaly Women'sfinished1:2\n",
      "the match between Argentina Women'sandJapan Women'sfinished0:0\n",
      "the match between Canada Women'sandCameroon Women'sfinished1:0\n",
      "the match between Chile Women'sandSweden Women'sfinished0:2\n",
      "the match between New Zealand Women'sandNetherlands Women'sfinished0:1\n",
      "the match between United States Women'sandThailand Women'sfinished13:0\n",
      "the match between Nigeria Women'sandKorea Republic Women'sfinished2:0\n",
      "the match between Germany Women'sandSpain Women'sfinished1:0\n",
      "the match between France Women'sandNorway Women'sfinished2:1\n",
      "the match between South Africa Women'sandChina PR Women'sfinished0:1\n",
      "the match between Japan Women'sandScotland Women'sfinished2:1\n",
      "the match between United States Women'sandChile Women'sfinished3:0\n",
      "the match between Sweden Women'sandThailand Women'sfinished5:1\n",
      "the match between Nigeria Women'sandFrance Women'sfinished0:1\n",
      "the match between Korea Republic Women'sandNorway Women'sfinished1:2\n",
      "the match between Italy Women'sandBrazil Women'sfinished0:1\n",
      "the match between Jamaica Women'sandAustralia Women'sfinished1:4\n",
      "the match between England Women'sandScotland Women'sfinished2:1\n",
      "the match between Japan Women'sandEngland Women'sfinished0:2\n",
      "the match between Cameroon Women'sandNew Zealand Women'sfinished2:1\n",
      "the match between Sweden Women'sandUnited States Women'sfinished0:2\n",
      "the match between Netherlands Women'sandCanada Women'sfinished2:1\n",
      "the match between Thailand Women'sandChile Women'sfinished0:2\n",
      "the match between Germany Women'sandNigeria Women'sfinished3:0\n",
      "the match between England Women'sandCameroon Women'sfinished3:0\n",
      "the match between France Women'sandKorea Republic Women'sfinished4:0\n",
      "the match between Norway Women'sandNigeria Women'sfinished3:0\n",
      "the match between England Women'sandArgentina Women'sfinished1:0\n",
      "the match between Jamaica Women'sandItaly Women'sfinished0:5\n",
      "the match between Netherlands Women'sandCameroon Women'sfinished3:1\n",
      "the match between Canada Women'sandNew Zealand Women'sfinished2:0\n",
      "the match between France Women'sandBrazil Women'sfinished2:1\n",
      "the match between Netherlands Women'sandJapan Women'sfinished2:1\n",
      "the match between Norway Women'sandEngland Women'sfinished0:3\n",
      "the match between Italy Women'sandChina PR Women'sfinished2:0\n",
      "the match between France Women'sandUnited States Women'sfinished1:2\n",
      "the match between England Women'sandUnited States Women'sfinished1:2\n",
      "the match between Netherlands Women'sandSweden Women'sfinished1:0\n",
      "the match between England Women'sandSweden Women'sfinished1:2\n",
      "the match between Italy Women'sandNetherlands Women'sfinished0:2\n",
      "the match between Germany Women'sandSweden Women'sfinished1:2\n",
      "the match between United States Women'sandNetherlands Women'sfinished2:0\n"
     ]
    }
   ],
   "source": [
    "for match in matches:\n",
    "    home_team_name=match[\"home_team\"][\"home_team_name\"]\n",
    "    away_team_name=match[\"away_team\"][\"away_team_name\"]\n",
    "    home_score=match[\"home_score\"]\n",
    "    away_score=match[\"away_score\"]\n",
    "    d_t=\"the match between \"+ home_team_name + \"and\" + away_team_name\n",
    "    r_t=\"finished\"+str(home_score)+\":\"+str(away_score)\n",
    "    print(d_t+r_t)"
   ]
  },
  {
   "cell_type": "code",
   "execution_count": 8,
   "metadata": {},
   "outputs": [
    {
     "name": "stdout",
     "output_type": "stream",
     "text": [
      "69301\n"
     ]
    }
   ],
   "source": [
    "home_team_required=\"England Women's\"\n",
    "away_team_required=\"Sweden Women's\"\n",
    "for match in matches:\n",
    "    home_team_name=match[\"home_team\"][\"home_team_name\"]\n",
    "    away_team_name=match[\"away_team\"][\"away_team_name\"]\n",
    "    if (home_team_name==home_team_required) and (away_team_name==away_team_required):\n",
    "        match_id=match[\"match_id\"]\n",
    "print(match_id)"
   ]
  },
  {
   "cell_type": "markdown",
   "metadata": {},
   "source": [
    "# Exercise: "
   ]
  },
  {
   "cell_type": "markdown",
   "metadata": {},
   "source": [
    "# 1, Edit the code above to print out the result list for the Mens World cup "
   ]
  },
  {
   "cell_type": "code",
   "execution_count": 11,
   "metadata": {},
   "outputs": [],
   "source": [
    "with open(\"Statsbomb/matches/43/3.json\") as f:\n",
    "    matches=json.load(f)"
   ]
  },
  {
   "cell_type": "code",
   "execution_count": 12,
   "metadata": {},
   "outputs": [
    {
     "name": "stdout",
     "output_type": "stream",
     "text": [
      "the match between AustraliaandPerufinished0:2\n",
      "the match between NigeriaandIcelandfinished2:0\n",
      "the match between SerbiaandBrazilfinished0:2\n",
      "the match between CroatiaandDenmarkfinished1:1\n",
      "the match between IranandPortugalfinished1:1\n",
      "the match between MexicoandSwedenfinished0:3\n",
      "the match between BrazilandCosta Ricafinished2:0\n",
      "the match between GermanyandMexicofinished0:1\n",
      "the match between PortugalandSpainfinished3:3\n",
      "the match between RussiaandEgyptfinished3:1\n",
      "the match between SwitzerlandandCosta Ricafinished2:2\n",
      "the match between PanamaandTunisiafinished1:2\n",
      "the match between EnglandandBelgiumfinished0:1\n",
      "the match between FranceandBelgiumfinished1:0\n",
      "the match between BelgiumandEnglandfinished2:0\n",
      "the match between IranandSpainfinished0:1\n",
      "the match between UruguayandRussiafinished3:0\n",
      "the match between CroatiaandNigeriafinished2:0\n",
      "the match between BrazilandBelgiumfinished1:2\n",
      "the match between FranceandPerufinished1:0\n",
      "the match between TunisiaandEnglandfinished1:2\n",
      "the match between FranceandArgentinafinished4:3\n",
      "the match between ArgentinaandCroatiafinished0:3\n",
      "the match between BelgiumandPanamafinished3:0\n",
      "the match between FranceandAustraliafinished2:1\n",
      "the match between Costa RicaandSerbiafinished0:1\n",
      "the match between BelgiumandJapanfinished3:2\n",
      "the match between UruguayandFrancefinished0:2\n",
      "the match between SwedenandSouth Koreafinished1:0\n",
      "the match between BrazilandSwitzerlandfinished1:1\n",
      "the match between SpainandMoroccofinished2:2\n",
      "the match between RussiaandSaudi Arabiafinished5:0\n",
      "the match between PeruandDenmarkfinished0:1\n",
      "the match between PolandandColombiafinished0:3\n",
      "the match between SenegalandColombiafinished0:1\n",
      "the match between RussiaandCroatiafinished2:2\n",
      "the match between South KoreaandMexicofinished1:2\n",
      "the match between Saudi ArabiaandEgyptfinished2:1\n",
      "the match between MoroccoandIranfinished0:1\n",
      "the match between PolandandSenegalfinished1:2\n",
      "the match between SerbiaandSwitzerlandfinished1:2\n",
      "the match between JapanandSenegalfinished2:2\n",
      "the match between IcelandandCroatiafinished1:2\n",
      "the match between SwedenandSwitzerlandfinished1:0\n",
      "the match between DenmarkandFrancefinished0:0\n",
      "the match between UruguayandPortugalfinished2:1\n",
      "the match between EgyptandUruguayfinished0:1\n",
      "the match between SwedenandEnglandfinished0:2\n",
      "the match between ArgentinaandIcelandfinished1:1\n",
      "the match between BelgiumandTunisiafinished5:2\n",
      "the match between FranceandCroatiafinished4:2\n",
      "the match between ColombiaandEnglandfinished1:1\n",
      "the match between EnglandandPanamafinished6:1\n",
      "the match between PortugalandMoroccofinished1:0\n",
      "the match between GermanyandSwedenfinished2:1\n",
      "the match between NigeriaandArgentinafinished1:2\n",
      "the match between South KoreaandGermanyfinished2:0\n",
      "the match between UruguayandSaudi Arabiafinished1:0\n",
      "the match between ColombiaandJapanfinished1:2\n",
      "the match between BrazilandMexicofinished2:0\n",
      "the match between JapanandPolandfinished0:1\n",
      "the match between DenmarkandAustraliafinished1:1\n",
      "the match between SpainandRussiafinished1:1\n",
      "the match between CroatiaandEnglandfinished2:1\n"
     ]
    }
   ],
   "source": [
    "for match in matches:\n",
    "    home_team_name=match[\"home_team\"][\"home_team_name\"]\n",
    "    away_team_name=match[\"away_team\"][\"away_team_name\"]\n",
    "    home_score=match[\"home_score\"]\n",
    "    away_score=match[\"away_score\"]\n",
    "    d_t=\"the match between \"+ home_team_name + \"and\" + away_team_name\n",
    "    r_t=\"finished\"+str(home_score)+\":\"+str(away_score)\n",
    "    print(d_t+r_t)"
   ]
  },
  {
   "cell_type": "markdown",
   "metadata": {},
   "source": [
    "# 2, Edit the code above to find the ID for England vs. Sweden"
   ]
  },
  {
   "cell_type": "code",
   "execution_count": 13,
   "metadata": {},
   "outputs": [
    {
     "name": "stdout",
     "output_type": "stream",
     "text": [
      "69301\n"
     ]
    }
   ],
   "source": [
    "home_team_required=\"England\"\n",
    "away_team_required=\"Sweden\"\n",
    "for match in matches:\n",
    "    home_team_name=match[\"home_team\"][\"home_team_name\"]\n",
    "    away_team_name=match[\"away_team\"][\"away_team_name\"]\n",
    "    if (home_team_name==home_team_required) and (away_team_name==away_team_required):\n",
    "        match_id=match[\"match_id\"]\n",
    "print(match_id)"
   ]
  },
  {
   "cell_type": "markdown",
   "metadata": {},
   "source": [
    "# 3, Write new code to write out a list of just Sweden's results in the tournament."
   ]
  },
  {
   "cell_type": "code",
   "execution_count": 15,
   "metadata": {},
   "outputs": [
    {
     "name": "stdout",
     "output_type": "stream",
     "text": [
      "7566\n",
      "7538\n",
      "7586\n",
      "8651\n",
      "7551\n"
     ]
    }
   ],
   "source": [
    "home_team_required=\"Sweden\"\n",
    "away_team_required=\"Sweden\"\n",
    "for match in matches:\n",
    "    home_team_name=match[\"home_team\"][\"home_team_name\"]\n",
    "    away_team_name=match[\"away_team\"][\"away_team_name\"]\n",
    "    if (home_team_name==home_team_required) or (away_team_name==away_team_required):\n",
    "        match_id=match[\"match_id\"]\n",
    "        print(match_id)"
   ]
  },
  {
   "cell_type": "code",
   "execution_count": null,
   "metadata": {},
   "outputs": [],
   "source": []
  }
 ],
 "metadata": {
  "kernelspec": {
   "display_name": "Python 3",
   "language": "python",
   "name": "python3"
  },
  "language_info": {
   "codemirror_mode": {
    "name": "ipython",
    "version": 3
   },
   "file_extension": ".py",
   "mimetype": "text/x-python",
   "name": "python",
   "nbconvert_exporter": "python",
   "pygments_lexer": "ipython3",
   "version": "3.7.6"
  }
 },
 "nbformat": 4,
 "nbformat_minor": 4
}
