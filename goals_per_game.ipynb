{
  "nbformat": 4,
  "nbformat_minor": 0,
  "metadata": {
    "colab": {
      "name": "goals_per_game.ipynb",
      "provenance": [],
      "mount_file_id": "1N0IeF5RKWBemhGvVHZqiWH9rhR0gBdpZ",
      "authorship_tag": "ABX9TyMRUybyNX2o4x+Krr/a37Il",
      "include_colab_link": true
    },
    "kernelspec": {
      "name": "python3",
      "display_name": "Python 3"
    },
    "language_info": {
      "name": "python"
    }
  },
  "cells": [
    {
      "cell_type": "markdown",
      "metadata": {
        "id": "view-in-github",
        "colab_type": "text"
      },
      "source": [
        "<a href=\"https://colab.research.google.com/github/Dinesh-Adhithya-H/sports-analytics/blob/master/goals_per_game.ipynb\" target=\"_parent\"><img src=\"https://colab.research.google.com/assets/colab-badge.svg\" alt=\"Open In Colab\"/></a>"
      ]
    },
    {
      "cell_type": "code",
      "metadata": {
        "colab": {
          "base_uri": "https://localhost:8080/"
        },
        "id": "OX9YDUK3VoMu",
        "outputId": "feddd2bc-374f-487d-f045-7537de33b48e"
      },
      "source": [
        "from google.colab import drive\n",
        "drive.mount(\"/content/gdrive/\")"
      ],
      "execution_count": 2,
      "outputs": [
        {
          "output_type": "stream",
          "text": [
            "Mounted at /content/gdrive/\n"
          ],
          "name": "stdout"
        }
      ]
    },
    {
      "cell_type": "code",
      "metadata": {
        "id": "uod5jG0AWZXC"
      },
      "source": [
        "import pandas as pd\n",
        "import numpy as np\n",
        "import matplotlib.pyplot as plt"
      ],
      "execution_count": 4,
      "outputs": []
    },
    {
      "cell_type": "code",
      "metadata": {
        "id": "jVN9raDrXgOk"
      },
      "source": [
        "data=pd.read_json(\"/content/gdrive/MyDrive/Wyscout/events/events_England.json\")"
      ],
      "execution_count": 5,
      "outputs": []
    },
    {
      "cell_type": "code",
      "metadata": {
        "colab": {
          "base_uri": "https://localhost:8080/"
        },
        "id": "l9TtQWF0YB3W",
        "outputId": "eabcdd78-e2f9-4ead-b1a4-f2012db651b7"
      },
      "source": [
        "np.unique(data[\"subEventName\"])"
      ],
      "execution_count": 6,
      "outputs": [
        {
          "output_type": "execute_result",
          "data": {
            "text/plain": [
              "array(['', 'Acceleration', 'Air duel', 'Ball out of the field',\n",
              "       'Clearance', 'Corner', 'Cross', 'Foul', 'Free Kick',\n",
              "       'Free kick cross', 'Free kick shot', 'Goal kick',\n",
              "       'Goalkeeper leaving line', 'Ground attacking duel',\n",
              "       'Ground defending duel', 'Ground loose ball duel', 'Hand foul',\n",
              "       'Hand pass', 'Head pass', 'High pass', 'Late card foul', 'Launch',\n",
              "       'Out of game foul', 'Penalty', 'Protest', 'Reflexes',\n",
              "       'Save attempt', 'Shot', 'Simple pass', 'Simulation', 'Smart pass',\n",
              "       'Throw in', 'Time lost foul', 'Touch', 'Violent Foul', 'Whistle'],\n",
              "      dtype=object)"
            ]
          },
          "metadata": {
            "tags": []
          },
          "execution_count": 6
        }
      ]
    },
    {
      "cell_type": "code",
      "metadata": {
        "colab": {
          "base_uri": "https://localhost:8080/"
        },
        "id": "2N7fpfNYcC_0",
        "outputId": "26951253-8c93-41a8-e4c7-6b9e017d6bdd"
      },
      "source": [
        "np.unique(data[\"eventName\"])"
      ],
      "execution_count": 7,
      "outputs": [
        {
          "output_type": "execute_result",
          "data": {
            "text/plain": [
              "array(['Duel', 'Foul', 'Free Kick', 'Goalkeeper leaving line',\n",
              "       'Interruption', 'Offside', 'Others on the ball', 'Pass',\n",
              "       'Save attempt', 'Shot'], dtype=object)"
            ]
          },
          "metadata": {
            "tags": []
          },
          "execution_count": 7
        }
      ]
    },
    {
      "cell_type": "code",
      "metadata": {
        "colab": {
          "base_uri": "https://localhost:8080/",
          "height": 809
        },
        "id": "RqgFX7ECcQ0i",
        "outputId": "971839cc-b158-4bde-ea4e-79ef014d0bc6"
      },
      "source": [
        "data[data[\"eventName\"]==\"Pass\"]"
      ],
      "execution_count": 8,
      "outputs": [
        {
          "output_type": "execute_result",
          "data": {
            "text/html": [
              "<div>\n",
              "<style scoped>\n",
              "    .dataframe tbody tr th:only-of-type {\n",
              "        vertical-align: middle;\n",
              "    }\n",
              "\n",
              "    .dataframe tbody tr th {\n",
              "        vertical-align: top;\n",
              "    }\n",
              "\n",
              "    .dataframe thead th {\n",
              "        text-align: right;\n",
              "    }\n",
              "</style>\n",
              "<table border=\"1\" class=\"dataframe\">\n",
              "  <thead>\n",
              "    <tr style=\"text-align: right;\">\n",
              "      <th></th>\n",
              "      <th>eventId</th>\n",
              "      <th>subEventName</th>\n",
              "      <th>tags</th>\n",
              "      <th>playerId</th>\n",
              "      <th>positions</th>\n",
              "      <th>matchId</th>\n",
              "      <th>eventName</th>\n",
              "      <th>teamId</th>\n",
              "      <th>matchPeriod</th>\n",
              "      <th>eventSec</th>\n",
              "      <th>subEventId</th>\n",
              "      <th>id</th>\n",
              "    </tr>\n",
              "  </thead>\n",
              "  <tbody>\n",
              "    <tr>\n",
              "      <th>0</th>\n",
              "      <td>8</td>\n",
              "      <td>Simple pass</td>\n",
              "      <td>[{'id': 1801}]</td>\n",
              "      <td>25413</td>\n",
              "      <td>[{'y': 49, 'x': 49}, {'y': 78, 'x': 31}]</td>\n",
              "      <td>2499719</td>\n",
              "      <td>Pass</td>\n",
              "      <td>1609</td>\n",
              "      <td>1H</td>\n",
              "      <td>2.758649</td>\n",
              "      <td>85</td>\n",
              "      <td>177959171</td>\n",
              "    </tr>\n",
              "    <tr>\n",
              "      <th>1</th>\n",
              "      <td>8</td>\n",
              "      <td>High pass</td>\n",
              "      <td>[{'id': 1801}]</td>\n",
              "      <td>370224</td>\n",
              "      <td>[{'y': 78, 'x': 31}, {'y': 75, 'x': 51}]</td>\n",
              "      <td>2499719</td>\n",
              "      <td>Pass</td>\n",
              "      <td>1609</td>\n",
              "      <td>1H</td>\n",
              "      <td>4.946850</td>\n",
              "      <td>83</td>\n",
              "      <td>177959172</td>\n",
              "    </tr>\n",
              "    <tr>\n",
              "      <th>2</th>\n",
              "      <td>8</td>\n",
              "      <td>Head pass</td>\n",
              "      <td>[{'id': 1801}]</td>\n",
              "      <td>3319</td>\n",
              "      <td>[{'y': 75, 'x': 51}, {'y': 71, 'x': 35}]</td>\n",
              "      <td>2499719</td>\n",
              "      <td>Pass</td>\n",
              "      <td>1609</td>\n",
              "      <td>1H</td>\n",
              "      <td>6.542188</td>\n",
              "      <td>82</td>\n",
              "      <td>177959173</td>\n",
              "    </tr>\n",
              "    <tr>\n",
              "      <th>3</th>\n",
              "      <td>8</td>\n",
              "      <td>Head pass</td>\n",
              "      <td>[{'id': 1801}]</td>\n",
              "      <td>120339</td>\n",
              "      <td>[{'y': 71, 'x': 35}, {'y': 95, 'x': 41}]</td>\n",
              "      <td>2499719</td>\n",
              "      <td>Pass</td>\n",
              "      <td>1609</td>\n",
              "      <td>1H</td>\n",
              "      <td>8.143395</td>\n",
              "      <td>82</td>\n",
              "      <td>177959174</td>\n",
              "    </tr>\n",
              "    <tr>\n",
              "      <th>4</th>\n",
              "      <td>8</td>\n",
              "      <td>Simple pass</td>\n",
              "      <td>[{'id': 1801}]</td>\n",
              "      <td>167145</td>\n",
              "      <td>[{'y': 95, 'x': 41}, {'y': 88, 'x': 72}]</td>\n",
              "      <td>2499719</td>\n",
              "      <td>Pass</td>\n",
              "      <td>1609</td>\n",
              "      <td>1H</td>\n",
              "      <td>10.302366</td>\n",
              "      <td>85</td>\n",
              "      <td>177959175</td>\n",
              "    </tr>\n",
              "    <tr>\n",
              "      <th>...</th>\n",
              "      <td>...</td>\n",
              "      <td>...</td>\n",
              "      <td>...</td>\n",
              "      <td>...</td>\n",
              "      <td>...</td>\n",
              "      <td>...</td>\n",
              "      <td>...</td>\n",
              "      <td>...</td>\n",
              "      <td>...</td>\n",
              "      <td>...</td>\n",
              "      <td>...</td>\n",
              "      <td>...</td>\n",
              "    </tr>\n",
              "    <tr>\n",
              "      <th>643134</th>\n",
              "      <td>8</td>\n",
              "      <td>Simple pass</td>\n",
              "      <td>[{'id': 1801}]</td>\n",
              "      <td>8313</td>\n",
              "      <td>[{'y': 63, 'x': 65}, {'y': 96, 'x': 61}]</td>\n",
              "      <td>2500098</td>\n",
              "      <td>Pass</td>\n",
              "      <td>1633</td>\n",
              "      <td>2H</td>\n",
              "      <td>2760.286946</td>\n",
              "      <td>85</td>\n",
              "      <td>251596219</td>\n",
              "    </tr>\n",
              "    <tr>\n",
              "      <th>643135</th>\n",
              "      <td>8</td>\n",
              "      <td>Simple pass</td>\n",
              "      <td>[{'id': 1801}]</td>\n",
              "      <td>379209</td>\n",
              "      <td>[{'y': 96, 'x': 61}, {'y': 85, 'x': 40}]</td>\n",
              "      <td>2500098</td>\n",
              "      <td>Pass</td>\n",
              "      <td>1633</td>\n",
              "      <td>2H</td>\n",
              "      <td>2763.698599</td>\n",
              "      <td>85</td>\n",
              "      <td>251596221</td>\n",
              "    </tr>\n",
              "    <tr>\n",
              "      <th>643141</th>\n",
              "      <td>8</td>\n",
              "      <td>Simple pass</td>\n",
              "      <td>[{'id': 1801}]</td>\n",
              "      <td>8561</td>\n",
              "      <td>[{'y': 70, 'x': 59}, {'y': 89, 'x': 53}]</td>\n",
              "      <td>2500098</td>\n",
              "      <td>Pass</td>\n",
              "      <td>1633</td>\n",
              "      <td>2H</td>\n",
              "      <td>2783.137836</td>\n",
              "      <td>85</td>\n",
              "      <td>251596225</td>\n",
              "    </tr>\n",
              "    <tr>\n",
              "      <th>643142</th>\n",
              "      <td>8</td>\n",
              "      <td>High pass</td>\n",
              "      <td>[{'id': 1801}]</td>\n",
              "      <td>20620</td>\n",
              "      <td>[{'y': 89, 'x': 53}, {'y': 72, 'x': 99}]</td>\n",
              "      <td>2500098</td>\n",
              "      <td>Pass</td>\n",
              "      <td>1633</td>\n",
              "      <td>2H</td>\n",
              "      <td>2785.702032</td>\n",
              "      <td>83</td>\n",
              "      <td>251596226</td>\n",
              "    </tr>\n",
              "    <tr>\n",
              "      <th>643143</th>\n",
              "      <td>8</td>\n",
              "      <td>Cross</td>\n",
              "      <td>[{'id': 402}, {'id': 2101}, {'id': 1802}]</td>\n",
              "      <td>14703</td>\n",
              "      <td>[{'y': 72, 'x': 99}, {'y': 0, 'x': 0}]</td>\n",
              "      <td>2500098</td>\n",
              "      <td>Pass</td>\n",
              "      <td>1633</td>\n",
              "      <td>2H</td>\n",
              "      <td>2789.232666</td>\n",
              "      <td>80</td>\n",
              "      <td>251596229</td>\n",
              "    </tr>\n",
              "  </tbody>\n",
              "</table>\n",
              "<p>328657 rows × 12 columns</p>\n",
              "</div>"
            ],
            "text/plain": [
              "        eventId subEventName  ... subEventId         id\n",
              "0             8  Simple pass  ...         85  177959171\n",
              "1             8    High pass  ...         83  177959172\n",
              "2             8    Head pass  ...         82  177959173\n",
              "3             8    Head pass  ...         82  177959174\n",
              "4             8  Simple pass  ...         85  177959175\n",
              "...         ...          ...  ...        ...        ...\n",
              "643134        8  Simple pass  ...         85  251596219\n",
              "643135        8  Simple pass  ...         85  251596221\n",
              "643141        8  Simple pass  ...         85  251596225\n",
              "643142        8    High pass  ...         83  251596226\n",
              "643143        8        Cross  ...         80  251596229\n",
              "\n",
              "[328657 rows x 12 columns]"
            ]
          },
          "metadata": {
            "tags": []
          },
          "execution_count": 8
        }
      ]
    },
    {
      "cell_type": "code",
      "metadata": {
        "colab": {
          "base_uri": "https://localhost:8080/",
          "height": 572
        },
        "id": "ryr5R8lFbbJv",
        "outputId": "4383908d-6c3a-4634-fe54-62a47d1e40fb"
      },
      "source": [
        "data"
      ],
      "execution_count": 12,
      "outputs": [
        {
          "output_type": "execute_result",
          "data": {
            "text/html": [
              "<div>\n",
              "<style scoped>\n",
              "    .dataframe tbody tr th:only-of-type {\n",
              "        vertical-align: middle;\n",
              "    }\n",
              "\n",
              "    .dataframe tbody tr th {\n",
              "        vertical-align: top;\n",
              "    }\n",
              "\n",
              "    .dataframe thead th {\n",
              "        text-align: right;\n",
              "    }\n",
              "</style>\n",
              "<table border=\"1\" class=\"dataframe\">\n",
              "  <thead>\n",
              "    <tr style=\"text-align: right;\">\n",
              "      <th></th>\n",
              "      <th>eventId</th>\n",
              "      <th>subEventName</th>\n",
              "      <th>tags</th>\n",
              "      <th>playerId</th>\n",
              "      <th>positions</th>\n",
              "      <th>matchId</th>\n",
              "      <th>eventName</th>\n",
              "      <th>teamId</th>\n",
              "      <th>matchPeriod</th>\n",
              "      <th>eventSec</th>\n",
              "      <th>subEventId</th>\n",
              "      <th>id</th>\n",
              "    </tr>\n",
              "  </thead>\n",
              "  <tbody>\n",
              "    <tr>\n",
              "      <th>0</th>\n",
              "      <td>8</td>\n",
              "      <td>Simple pass</td>\n",
              "      <td>[{'id': 1801}]</td>\n",
              "      <td>25413</td>\n",
              "      <td>[{'y': 49, 'x': 49}, {'y': 78, 'x': 31}]</td>\n",
              "      <td>2499719</td>\n",
              "      <td>Pass</td>\n",
              "      <td>1609</td>\n",
              "      <td>1H</td>\n",
              "      <td>2.758649</td>\n",
              "      <td>85</td>\n",
              "      <td>177959171</td>\n",
              "    </tr>\n",
              "    <tr>\n",
              "      <th>1</th>\n",
              "      <td>8</td>\n",
              "      <td>High pass</td>\n",
              "      <td>[{'id': 1801}]</td>\n",
              "      <td>370224</td>\n",
              "      <td>[{'y': 78, 'x': 31}, {'y': 75, 'x': 51}]</td>\n",
              "      <td>2499719</td>\n",
              "      <td>Pass</td>\n",
              "      <td>1609</td>\n",
              "      <td>1H</td>\n",
              "      <td>4.946850</td>\n",
              "      <td>83</td>\n",
              "      <td>177959172</td>\n",
              "    </tr>\n",
              "    <tr>\n",
              "      <th>2</th>\n",
              "      <td>8</td>\n",
              "      <td>Head pass</td>\n",
              "      <td>[{'id': 1801}]</td>\n",
              "      <td>3319</td>\n",
              "      <td>[{'y': 75, 'x': 51}, {'y': 71, 'x': 35}]</td>\n",
              "      <td>2499719</td>\n",
              "      <td>Pass</td>\n",
              "      <td>1609</td>\n",
              "      <td>1H</td>\n",
              "      <td>6.542188</td>\n",
              "      <td>82</td>\n",
              "      <td>177959173</td>\n",
              "    </tr>\n",
              "    <tr>\n",
              "      <th>3</th>\n",
              "      <td>8</td>\n",
              "      <td>Head pass</td>\n",
              "      <td>[{'id': 1801}]</td>\n",
              "      <td>120339</td>\n",
              "      <td>[{'y': 71, 'x': 35}, {'y': 95, 'x': 41}]</td>\n",
              "      <td>2499719</td>\n",
              "      <td>Pass</td>\n",
              "      <td>1609</td>\n",
              "      <td>1H</td>\n",
              "      <td>8.143395</td>\n",
              "      <td>82</td>\n",
              "      <td>177959174</td>\n",
              "    </tr>\n",
              "    <tr>\n",
              "      <th>4</th>\n",
              "      <td>8</td>\n",
              "      <td>Simple pass</td>\n",
              "      <td>[{'id': 1801}]</td>\n",
              "      <td>167145</td>\n",
              "      <td>[{'y': 95, 'x': 41}, {'y': 88, 'x': 72}]</td>\n",
              "      <td>2499719</td>\n",
              "      <td>Pass</td>\n",
              "      <td>1609</td>\n",
              "      <td>1H</td>\n",
              "      <td>10.302366</td>\n",
              "      <td>85</td>\n",
              "      <td>177959175</td>\n",
              "    </tr>\n",
              "    <tr>\n",
              "      <th>...</th>\n",
              "      <td>...</td>\n",
              "      <td>...</td>\n",
              "      <td>...</td>\n",
              "      <td>...</td>\n",
              "      <td>...</td>\n",
              "      <td>...</td>\n",
              "      <td>...</td>\n",
              "      <td>...</td>\n",
              "      <td>...</td>\n",
              "      <td>...</td>\n",
              "      <td>...</td>\n",
              "      <td>...</td>\n",
              "    </tr>\n",
              "    <tr>\n",
              "      <th>643145</th>\n",
              "      <td>5</td>\n",
              "      <td>Ball out of the field</td>\n",
              "      <td>[]</td>\n",
              "      <td>0</td>\n",
              "      <td>[{'y': 32, 'x': 0}, {'y': 100, 'x': 100}]</td>\n",
              "      <td>2500098</td>\n",
              "      <td>Interruption</td>\n",
              "      <td>1623</td>\n",
              "      <td>2H</td>\n",
              "      <td>2796.732525</td>\n",
              "      <td>50</td>\n",
              "      <td>251596409</td>\n",
              "    </tr>\n",
              "    <tr>\n",
              "      <th>643146</th>\n",
              "      <td>3</td>\n",
              "      <td>Corner</td>\n",
              "      <td>[{'id': 302}, {'id': 801}, {'id': 1801}]</td>\n",
              "      <td>70965</td>\n",
              "      <td>[{'y': 100, 'x': 100}, {'y': 47, 'x': 88}]</td>\n",
              "      <td>2500098</td>\n",
              "      <td>Free Kick</td>\n",
              "      <td>1633</td>\n",
              "      <td>2H</td>\n",
              "      <td>2829.821084</td>\n",
              "      <td>30</td>\n",
              "      <td>251596232</td>\n",
              "    </tr>\n",
              "    <tr>\n",
              "      <th>643147</th>\n",
              "      <td>1</td>\n",
              "      <td>Air duel</td>\n",
              "      <td>[{'id': 701}, {'id': 1802}]</td>\n",
              "      <td>7919</td>\n",
              "      <td>[{'y': 53, 'x': 12}, {'y': 50, 'x': 14}]</td>\n",
              "      <td>2500098</td>\n",
              "      <td>Duel</td>\n",
              "      <td>1623</td>\n",
              "      <td>2H</td>\n",
              "      <td>2831.211419</td>\n",
              "      <td>10</td>\n",
              "      <td>251596410</td>\n",
              "    </tr>\n",
              "    <tr>\n",
              "      <th>643148</th>\n",
              "      <td>1</td>\n",
              "      <td>Air duel</td>\n",
              "      <td>[{'id': 703}, {'id': 1801}]</td>\n",
              "      <td>8005</td>\n",
              "      <td>[{'y': 47, 'x': 88}, {'y': 50, 'x': 86}]</td>\n",
              "      <td>2500098</td>\n",
              "      <td>Duel</td>\n",
              "      <td>1633</td>\n",
              "      <td>2H</td>\n",
              "      <td>2832.434399</td>\n",
              "      <td>10</td>\n",
              "      <td>251596234</td>\n",
              "    </tr>\n",
              "    <tr>\n",
              "      <th>643149</th>\n",
              "      <td>10</td>\n",
              "      <td>Shot</td>\n",
              "      <td>[{'id': 403}, {'id': 201}, {'id': 1216}, {'id'...</td>\n",
              "      <td>8005</td>\n",
              "      <td>[{'y': 50, 'x': 86}, {'y': 0, 'x': 0}]</td>\n",
              "      <td>2500098</td>\n",
              "      <td>Shot</td>\n",
              "      <td>1633</td>\n",
              "      <td>2H</td>\n",
              "      <td>2834.127168</td>\n",
              "      <td>100</td>\n",
              "      <td>251596236</td>\n",
              "    </tr>\n",
              "  </tbody>\n",
              "</table>\n",
              "<p>643150 rows × 12 columns</p>\n",
              "</div>"
            ],
            "text/plain": [
              "        eventId           subEventName  ... subEventId         id\n",
              "0             8            Simple pass  ...         85  177959171\n",
              "1             8              High pass  ...         83  177959172\n",
              "2             8              Head pass  ...         82  177959173\n",
              "3             8              Head pass  ...         82  177959174\n",
              "4             8            Simple pass  ...         85  177959175\n",
              "...         ...                    ...  ...        ...        ...\n",
              "643145        5  Ball out of the field  ...         50  251596409\n",
              "643146        3                 Corner  ...         30  251596232\n",
              "643147        1               Air duel  ...         10  251596410\n",
              "643148        1               Air duel  ...         10  251596234\n",
              "643149       10                   Shot  ...        100  251596236\n",
              "\n",
              "[643150 rows x 12 columns]"
            ]
          },
          "metadata": {
            "tags": []
          },
          "execution_count": 12
        }
      ]
    },
    {
      "cell_type": "code",
      "metadata": {
        "id": "wxcen7LIaB2J"
      },
      "source": [
        "shots=data[data[\"subEventName\"].isin([\"Shot\",\"Penalty\",\"Free kick shot\"])]"
      ],
      "execution_count": 19,
      "outputs": []
    },
    {
      "cell_type": "code",
      "metadata": {
        "id": "mAeiGluoaqO5"
      },
      "source": [
        "shots=shots.assign(Goal=0)"
      ],
      "execution_count": 20,
      "outputs": []
    },
    {
      "cell_type": "code",
      "metadata": {
        "colab": {
          "base_uri": "https://localhost:8080/",
          "height": 572
        },
        "id": "Rso44XPAIqja",
        "outputId": "479fc208-78b5-49d0-df51-60955e4dd96e"
      },
      "source": [
        "shots"
      ],
      "execution_count": 21,
      "outputs": [
        {
          "output_type": "execute_result",
          "data": {
            "text/html": [
              "<div>\n",
              "<style scoped>\n",
              "    .dataframe tbody tr th:only-of-type {\n",
              "        vertical-align: middle;\n",
              "    }\n",
              "\n",
              "    .dataframe tbody tr th {\n",
              "        vertical-align: top;\n",
              "    }\n",
              "\n",
              "    .dataframe thead th {\n",
              "        text-align: right;\n",
              "    }\n",
              "</style>\n",
              "<table border=\"1\" class=\"dataframe\">\n",
              "  <thead>\n",
              "    <tr style=\"text-align: right;\">\n",
              "      <th></th>\n",
              "      <th>eventId</th>\n",
              "      <th>subEventName</th>\n",
              "      <th>tags</th>\n",
              "      <th>playerId</th>\n",
              "      <th>positions</th>\n",
              "      <th>matchId</th>\n",
              "      <th>eventName</th>\n",
              "      <th>teamId</th>\n",
              "      <th>matchPeriod</th>\n",
              "      <th>eventSec</th>\n",
              "      <th>subEventId</th>\n",
              "      <th>id</th>\n",
              "      <th>Goal</th>\n",
              "    </tr>\n",
              "  </thead>\n",
              "  <tbody>\n",
              "    <tr>\n",
              "      <th>46</th>\n",
              "      <td>10</td>\n",
              "      <td>Shot</td>\n",
              "      <td>[{'id': 101}, {'id': 402}, {'id': 201}, {'id':...</td>\n",
              "      <td>25413</td>\n",
              "      <td>[{'y': 41, 'x': 88}, {'y': 0, 'x': 0}]</td>\n",
              "      <td>2499719</td>\n",
              "      <td>Shot</td>\n",
              "      <td>1609</td>\n",
              "      <td>1H</td>\n",
              "      <td>94.595788</td>\n",
              "      <td>100</td>\n",
              "      <td>177959212</td>\n",
              "      <td>0</td>\n",
              "    </tr>\n",
              "    <tr>\n",
              "      <th>62</th>\n",
              "      <td>10</td>\n",
              "      <td>Shot</td>\n",
              "      <td>[{'id': 401}, {'id': 201}, {'id': 1211}, {'id'...</td>\n",
              "      <td>26150</td>\n",
              "      <td>[{'y': 52, 'x': 85}, {'y': 100, 'x': 100}]</td>\n",
              "      <td>2499719</td>\n",
              "      <td>Shot</td>\n",
              "      <td>1631</td>\n",
              "      <td>1H</td>\n",
              "      <td>179.854785</td>\n",
              "      <td>100</td>\n",
              "      <td>177959247</td>\n",
              "      <td>0</td>\n",
              "    </tr>\n",
              "    <tr>\n",
              "      <th>91</th>\n",
              "      <td>10</td>\n",
              "      <td>Shot</td>\n",
              "      <td>[{'id': 101}, {'id': 403}, {'id': 201}, {'id':...</td>\n",
              "      <td>14763</td>\n",
              "      <td>[{'y': 52, 'x': 96}, {'y': 100, 'x': 100}]</td>\n",
              "      <td>2499719</td>\n",
              "      <td>Shot</td>\n",
              "      <td>1631</td>\n",
              "      <td>1H</td>\n",
              "      <td>254.745027</td>\n",
              "      <td>100</td>\n",
              "      <td>177959280</td>\n",
              "      <td>0</td>\n",
              "    </tr>\n",
              "    <tr>\n",
              "      <th>128</th>\n",
              "      <td>10</td>\n",
              "      <td>Shot</td>\n",
              "      <td>[{'id': 401}, {'id': 201}, {'id': 1215}, {'id'...</td>\n",
              "      <td>7868</td>\n",
              "      <td>[{'y': 33, 'x': 81}, {'y': 0, 'x': 0}]</td>\n",
              "      <td>2499719</td>\n",
              "      <td>Shot</td>\n",
              "      <td>1609</td>\n",
              "      <td>1H</td>\n",
              "      <td>425.824035</td>\n",
              "      <td>100</td>\n",
              "      <td>177959289</td>\n",
              "      <td>0</td>\n",
              "    </tr>\n",
              "    <tr>\n",
              "      <th>249</th>\n",
              "      <td>10</td>\n",
              "      <td>Shot</td>\n",
              "      <td>[{'id': 402}, {'id': 201}, {'id': 1205}, {'id'...</td>\n",
              "      <td>7868</td>\n",
              "      <td>[{'y': 30, 'x': 75}, {'y': 0, 'x': 0}]</td>\n",
              "      <td>2499719</td>\n",
              "      <td>Shot</td>\n",
              "      <td>1609</td>\n",
              "      <td>1H</td>\n",
              "      <td>815.462015</td>\n",
              "      <td>100</td>\n",
              "      <td>177959429</td>\n",
              "      <td>0</td>\n",
              "    </tr>\n",
              "    <tr>\n",
              "      <th>...</th>\n",
              "      <td>...</td>\n",
              "      <td>...</td>\n",
              "      <td>...</td>\n",
              "      <td>...</td>\n",
              "      <td>...</td>\n",
              "      <td>...</td>\n",
              "      <td>...</td>\n",
              "      <td>...</td>\n",
              "      <td>...</td>\n",
              "      <td>...</td>\n",
              "      <td>...</td>\n",
              "      <td>...</td>\n",
              "      <td>...</td>\n",
              "    </tr>\n",
              "    <tr>\n",
              "      <th>642945</th>\n",
              "      <td>10</td>\n",
              "      <td>Shot</td>\n",
              "      <td>[{'id': 401}, {'id': 1212}, {'id': 1802}]</td>\n",
              "      <td>8561</td>\n",
              "      <td>[{'y': 45, 'x': 72}, {'y': 0, 'x': 0}]</td>\n",
              "      <td>2500098</td>\n",
              "      <td>Shot</td>\n",
              "      <td>1633</td>\n",
              "      <td>2H</td>\n",
              "      <td>1972.969422</td>\n",
              "      <td>100</td>\n",
              "      <td>251596053</td>\n",
              "      <td>0</td>\n",
              "    </tr>\n",
              "    <tr>\n",
              "      <th>643023</th>\n",
              "      <td>10</td>\n",
              "      <td>Shot</td>\n",
              "      <td>[{'id': 101}, {'id': 402}, {'id': 201}, {'id':...</td>\n",
              "      <td>41174</td>\n",
              "      <td>[{'y': 33, 'x': 86}, {'y': 0, 'x': 0}]</td>\n",
              "      <td>2500098</td>\n",
              "      <td>Shot</td>\n",
              "      <td>1633</td>\n",
              "      <td>2H</td>\n",
              "      <td>2193.887080</td>\n",
              "      <td>100</td>\n",
              "      <td>251596096</td>\n",
              "      <td>0</td>\n",
              "    </tr>\n",
              "    <tr>\n",
              "      <th>643051</th>\n",
              "      <td>10</td>\n",
              "      <td>Shot</td>\n",
              "      <td>[{'id': 402}, {'id': 201}, {'id': 1201}, {'id'...</td>\n",
              "      <td>7879</td>\n",
              "      <td>[{'y': 62, 'x': 88}, {'y': 100, 'x': 100}]</td>\n",
              "      <td>2500098</td>\n",
              "      <td>Shot</td>\n",
              "      <td>1623</td>\n",
              "      <td>2H</td>\n",
              "      <td>2377.197700</td>\n",
              "      <td>100</td>\n",
              "      <td>251596357</td>\n",
              "      <td>0</td>\n",
              "    </tr>\n",
              "    <tr>\n",
              "      <th>643055</th>\n",
              "      <td>10</td>\n",
              "      <td>Shot</td>\n",
              "      <td>[{'id': 402}, {'id': 201}, {'id': 1206}, {'id'...</td>\n",
              "      <td>145692</td>\n",
              "      <td>[{'y': 38, 'x': 92}, {'y': 100, 'x': 100}]</td>\n",
              "      <td>2500098</td>\n",
              "      <td>Shot</td>\n",
              "      <td>1623</td>\n",
              "      <td>2H</td>\n",
              "      <td>2381.481625</td>\n",
              "      <td>100</td>\n",
              "      <td>251596359</td>\n",
              "      <td>0</td>\n",
              "    </tr>\n",
              "    <tr>\n",
              "      <th>643149</th>\n",
              "      <td>10</td>\n",
              "      <td>Shot</td>\n",
              "      <td>[{'id': 403}, {'id': 201}, {'id': 1216}, {'id'...</td>\n",
              "      <td>8005</td>\n",
              "      <td>[{'y': 50, 'x': 86}, {'y': 0, 'x': 0}]</td>\n",
              "      <td>2500098</td>\n",
              "      <td>Shot</td>\n",
              "      <td>1633</td>\n",
              "      <td>2H</td>\n",
              "      <td>2834.127168</td>\n",
              "      <td>100</td>\n",
              "      <td>251596236</td>\n",
              "      <td>0</td>\n",
              "    </tr>\n",
              "  </tbody>\n",
              "</table>\n",
              "<p>8881 rows × 13 columns</p>\n",
              "</div>"
            ],
            "text/plain": [
              "        eventId subEventName  ...         id  Goal\n",
              "46           10         Shot  ...  177959212     0\n",
              "62           10         Shot  ...  177959247     0\n",
              "91           10         Shot  ...  177959280     0\n",
              "128          10         Shot  ...  177959289     0\n",
              "249          10         Shot  ...  177959429     0\n",
              "...         ...          ...  ...        ...   ...\n",
              "642945       10         Shot  ...  251596053     0\n",
              "643023       10         Shot  ...  251596096     0\n",
              "643051       10         Shot  ...  251596357     0\n",
              "643055       10         Shot  ...  251596359     0\n",
              "643149       10         Shot  ...  251596236     0\n",
              "\n",
              "[8881 rows x 13 columns]"
            ]
          },
          "metadata": {
            "tags": []
          },
          "execution_count": 21
        }
      ]
    },
    {
      "cell_type": "code",
      "metadata": {
        "colab": {
          "base_uri": "https://localhost:8080/"
        },
        "id": "xvfA1b5vIrip",
        "outputId": "980f5a0a-3205-4b42-91bc-540443e5fe2b"
      },
      "source": [
        "for i,shot in shots.iterrows():\n",
        "  for shottags in shot[\"tags\"]:\n",
        "    if shottags[\"id\"]==101:\n",
        "      shots.at[i,\"Goal\"]=1\n",
        "sum(shots[\"Goal\"])"
      ],
      "execution_count": 22,
      "outputs": [
        {
          "output_type": "execute_result",
          "data": {
            "text/plain": [
              "988"
            ]
          },
          "metadata": {
            "tags": []
          },
          "execution_count": 22
        }
      ]
    },
    {
      "cell_type": "code",
      "metadata": {
        "id": "PZzKOWVDLtqV"
      },
      "source": [
        "match_list=shots[\"matchId\"].unique().tolist()"
      ],
      "execution_count": 23,
      "outputs": []
    },
    {
      "cell_type": "code",
      "metadata": {
        "id": "WOJ_dOJyRwq5"
      },
      "source": [
        "num_matches=len(match_list)"
      ],
      "execution_count": 24,
      "outputs": []
    },
    {
      "cell_type": "code",
      "metadata": {
        "id": "qNvVtWLrR1ge"
      },
      "source": [
        "shots_in_match=[]\n",
        "goals_in_match=[]\n",
        "for match in match_list:\n",
        "  shots_in_match.append(len(shots[shots[\"matchId\"]==match]))\n",
        "  goals_in_match.append(len(shots[np.logical_and(shots[\"matchId\"]==match,(shots[\"Goal\"]==1))]))"
      ],
      "execution_count": 48,
      "outputs": []
    },
    {
      "cell_type": "code",
      "metadata": {
        "id": "qLZ396J0elII"
      },
      "source": [
        "mean_goals=np.mean(goals_in_match)"
      ],
      "execution_count": 49,
      "outputs": []
    },
    {
      "cell_type": "code",
      "metadata": {
        "colab": {
          "base_uri": "https://localhost:8080/"
        },
        "id": "KjO8hJNheqZy",
        "outputId": "ec87bd04-e16f-4287-d8e6-3d0cb2cdd47e"
      },
      "source": [
        "mean_goals"
      ],
      "execution_count": 50,
      "outputs": [
        {
          "output_type": "execute_result",
          "data": {
            "text/plain": [
              "2.6"
            ]
          },
          "metadata": {
            "tags": []
          },
          "execution_count": 50
        }
      ]
    },
    {
      "cell_type": "code",
      "metadata": {
        "id": "rjNN-_hMgYWm"
      },
      "source": [
        ""
      ],
      "execution_count": null,
      "outputs": []
    },
    {
      "cell_type": "code",
      "metadata": {
        "colab": {
          "base_uri": "https://localhost:8080/",
          "height": 269
        },
        "id": "5ohiLV2kSZTK",
        "outputId": "cf9f3862-ffb9-4da3-aa4c-9fa082aeb5b0"
      },
      "source": [
        "plt.figure()\n",
        "x=np.zeros(10)\n",
        "for i in range(10):\n",
        "  x[i]=np.power(mean_goals,i)*np.exp(-mean_goals)/np.math.factorial(i)\n",
        "plt.hist(goals_in_match,bins=100,label=\"simulation data\")\n",
        "plt.plot(x*num_matches,label=\"poisson fit\")\n",
        "plt.legend()\n",
        "plt.show()"
      ],
      "execution_count": 56,
      "outputs": [
        {
          "output_type": "display_data",
          "data": {
            "image/png": "[encoded data removed]",
            "text/plain": [
              "<Figure size 432x288 with 1 Axes>"
            ]
          },
          "metadata": {
            "tags": [],
            "needs_background": "light"
          }
        }
      ]
    },
    {
      "cell_type": "code",
      "metadata": {
        "id": "ZrTYYawtTRMi"
      },
      "source": [
        ""
      ],
      "execution_count": 35,
      "outputs": []
    },
    {
      "cell_type": "code",
      "metadata": {
        "id": "AUAXlOLweCTf"
      },
      "source": [
        ""
      ],
      "execution_count": null,
      "outputs": []
    }
  ]
}